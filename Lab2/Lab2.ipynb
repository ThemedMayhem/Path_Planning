{
  "nbformat": 4,
  "nbformat_minor": 0,
  "metadata": {
    "kernelspec": {
      "display_name": "Python 3",
      "language": "python",
      "name": "python3"
    },
    "language_info": {
      "codemirror_mode": {
        "name": "ipython",
        "version": 3
      },
      "file_extension": ".py",
      "mimetype": "text/x-python",
      "name": "python",
      "nbconvert_exporter": "python",
      "pygments_lexer": "ipython3",
      "version": "3.8.8"
    },
    "colab": {
      "name": "Lab2.ipynb",
      "provenance": [],
      "collapsed_sections": []
    }
  },
  "cells": [
    {
      "cell_type": "markdown",
      "metadata": {
        "id": "XqnmDYkL7weV"
      },
      "source": [
        "# Path Planning On a Grid with Velocity/Orientation"
      ]
    },
    {
      "cell_type": "markdown",
      "metadata": {
        "id": "a-VPbgiW7weY"
      },
      "source": [
        "![1](./Image/1.png)"
      ]
    },
    {
      "cell_type": "markdown",
      "metadata": {
        "id": "B1ylJK5N7weY"
      },
      "source": [
        "In this lab your task is to implement `A*` and its suboptimal version - `WA*` (Weighted A*) to solve path planning problems on a grid for an agent with orientation.\n",
        "\n",
        "> Блок с отступами\n",
        "\n",
        "\n",
        "\n",
        "**The search space state is considered by the four variables - `<i, j, v, o>`**, where `i` and `j` are the cell's coordinates, `v` - velocity speed, `o` - orientation. It's assumed that the agent have two velocity speeds - 1 and 0. If the agent moves with a constant speed 1, the cost-coefficient of transition is 1. If it needs to accelerate OR to stop, then the transition cost is increased by 0.5. If it needs to accelerate AND to stop, then the transition cost is increased by 1.\n",
        "The agent can rotate only when the velocity speed is 0. The rotation speed is constant. It requires 1 time unit to rotate for 90 degrees.\n",
        "\n",
        "You can use the implementation of `A*` you have created in the previous lab. You need to modify it in such a way, that it can take into account agent's velocity and orientation. You also need to create a subomtimal version of the algorithm that uses an inflated heuristic function. After that you need to run some tests and evaluate the influence of suboptimality factor of `WA*` on its performance and solution quality."
      ]
    },
    {
      "cell_type": "markdown",
      "metadata": {
        "id": "URsTr8307wea"
      },
      "source": [
        "<img src=\"./Image/2new.png\" alt=\"Drawing\" style=\"width: 300px;\"/>"
      ]
    },
    {
      "cell_type": "markdown",
      "metadata": {
        "id": "v94B-U297wea"
      },
      "source": [
        "Run every cell of the notebook, completing the tasks described in them. Good luck!"
      ]
    },
    {
      "cell_type": "code",
      "metadata": {
        "id": "xhuAxTIB7web"
      },
      "source": [
        "from PIL import Image, ImageDraw\n",
        "import numpy as np\n",
        "import matplotlib.pyplot as plt\n",
        "import math\n",
        "from sys import float_info\n",
        "EPS = float_info.epsilon\n",
        "%matplotlib inline"
      ],
      "execution_count": 66,
      "outputs": []
    },
    {
      "cell_type": "code",
      "metadata": {
        "colab": {
          "base_uri": "https://localhost:8080/"
        },
        "id": "Tf2uaVmuZ68u",
        "outputId": "e0639596-21fb-4ed9-dbe9-18713464ce34"
      },
      "source": [
        "from google.colab import drive\n",
        "drive.mount('/content/drive/')\n",
        "!ls"
      ],
      "execution_count": 67,
      "outputs": [
        {
          "output_type": "stream",
          "text": [
            "Drive already mounted at /content/drive/; to attempt to forcibly remount, call drive.mount(\"/content/drive/\", force_remount=True).\n",
            "Data  Image  Lab2.ipynb\n"
          ],
          "name": "stdout"
        }
      ]
    },
    {
      "cell_type": "code",
      "metadata": {
        "colab": {
          "base_uri": "https://localhost:8080/"
        },
        "id": "RmeVq9OlZ_VZ",
        "outputId": "dc689925-ba4b-4175-d674-11dadea09752"
      },
      "source": [
        "%cd /content/drive/My Drive/Planning/Lab2/\n",
        "!ls"
      ],
      "execution_count": 68,
      "outputs": [
        {
          "output_type": "stream",
          "text": [
            "/content/drive/My Drive/Planning/Lab2\n",
            "Data  Image  Lab2.ipynb\n"
          ],
          "name": "stdout"
        }
      ]
    },
    {
      "cell_type": "markdown",
      "metadata": {
        "id": "tvEDT9PZ7wec"
      },
      "source": [
        "### Grid map representation \n",
        "\n",
        "Square grid map class represents the environment for our moving agent\n",
        "\n",
        "- width -- the number of columns in the grid\n",
        "- height -- the number of rows in the grid\n",
        "- cells -- the binary matrix, that represents the grid. 0 - cell is traversable, 1 - cell is blocked"
      ]
    },
    {
      "cell_type": "code",
      "metadata": {
        "id": "OjJTNmHh7wec"
      },
      "source": [
        "class Map:\n",
        "\n",
        "    def __init__(self):\n",
        "        '''\n",
        "        Default constructor\n",
        "        '''\n",
        "\n",
        "        self.width = 0\n",
        "        self.height = 0\n",
        "        self.cells = []\n",
        "    \n",
        "\n",
        "    def ReadFromString(self, cellStr, width, height):\n",
        "        '''\n",
        "        Converting a string (with '#' representing obstacles and '.' representing free cells) to a grid\n",
        "        '''\n",
        "        self.width = width\n",
        "        self.height = height\n",
        "        self.cells = [[0 for _ in range(width)] for _ in range(height)]\n",
        "        cellLines = cellStr.split(\"\\n\")\n",
        "        i = 0\n",
        "        j = 0\n",
        "        for l in cellLines:\n",
        "            if len(l) != 0:\n",
        "                j = 0\n",
        "                for c in l:\n",
        "                    if c == '.':\n",
        "                        self.cells[i][j] = 0\n",
        "                    elif c == '#':\n",
        "                        self.cells[i][j] = 1\n",
        "                    else:\n",
        "                        continue\n",
        "                    j += 1\n",
        "                if j != width:\n",
        "                    raise Exception(\"Size Error. Map width = \", j, \", but must be\", width )\n",
        "                \n",
        "                i += 1\n",
        "\n",
        "        if i != height:\n",
        "            raise Exception(\"Size Error. Map height = \", i, \", but must be\", height )\n",
        "    \n",
        "     \n",
        "    def SetGridCells(self, width, height, gridCells):\n",
        "        '''\n",
        "        Initialization of map by list of cells.\n",
        "        '''\n",
        "        self.width = width\n",
        "        self.height = height\n",
        "        self.cells = gridCells\n",
        "\n",
        "\n",
        "    def inBounds(self, i, j):\n",
        "        '''\n",
        "        Check if the cell is on a grid.\n",
        "        '''\n",
        "        return (0 <= j < self.width) and (0 <= i < self.height)\n",
        "    \n",
        "\n",
        "    def Traversable(self, i, j):\n",
        "        '''\n",
        "        Check if the cell is not an obstacle.\n",
        "        '''\n",
        "        return not self.cells[i][j]\n",
        "\n",
        "\n",
        "    def GetNeighbors(self, i, j, speed, orientation, diagonalMoves = False):\n",
        "        neighbors = []       \n",
        "        delta = [(0,1),(-1,0),(0,-1),(1,0)]\n",
        "        \n",
        "        if speed == 1:    \n",
        "            for u in range(0,360,90):\n",
        "                if orientation == u:\n",
        "                   a = int(u/90)\n",
        "            if orientation in range(0,360,90):\n",
        "              neighbors.append((i, j, 0, orientation))           \n",
        "              if (self.inBounds(i + delta[a][0], j + delta[a][1]) and self.Traversable(i + delta[a][0], j + delta[a][1])):\n",
        "                neighbors.append((i + delta[a][0], j + delta[a][1], 1, orientation))\n",
        "\n",
        "        else:\n",
        "            neighbors.append((i, j, 1, orientation))  \n",
        "            for angle in range(0,360,90):\n",
        "              if orientation != angle:\n",
        "                neighbors.append((i, j, 0, angle))  \n",
        "\n",
        "        if diagonalMoves:\n",
        "          orient = [45,135,225,315]\n",
        "          delta = [(-1,1),(-1,-1),(1,-1),(1,1)]\n",
        "\n",
        "          if speed == 1:\n",
        "       \n",
        "             for u in range(45,360,90):\n",
        "                if orientation == u:\n",
        "                    a = int((u-45)/90)\n",
        " \n",
        "             if orientation in range(45,360,90):\n",
        "                neighbors.append((i, j, 0, orientation))\n",
        "                if self.inBounds(i + delta[a][0], j + delta[a][1]) and self.Traversable(i + delta[a][0], j + delta[a][1]) and self.inBounds(i, j + delta[a][1]) and self.Traversable(i, j + delta[a][1]) and self.inBounds(i + delta[a][0], j) and self.Traversable(i + delta[a][0], j):\n",
        "                   neighbors.append((i + delta[a][0], j + delta[a][1], 1, orientation))\n",
        "\n",
        "\n",
        "          else:\n",
        "            for angle in range(0,360,90):\n",
        "              if orientation != (angle + 45):\n",
        "                neighbors.append((i, j, 0, (angle + 45))) \n",
        "      \n",
        "        return neighbors"
      ],
      "execution_count": 69,
      "outputs": []
    },
    {
      "cell_type": "markdown",
      "metadata": {
        "id": "lrL-z4767wed"
      },
      "source": [
        "Computes the cost of a transition from cell `(i1, j1)` to cell `(i2, j2)`. In case of 4-connected grid it is always equal to 1. However if other moves are allowed, the cost of a transition may vary."
      ]
    },
    {
      "cell_type": "code",
      "metadata": {
        "id": "BqJSKwhH7wee"
      },
      "source": [
        "def ComputeCost(NodeA, NodeB):\n",
        "    if NodeA.orientation == NodeB.orientation:\n",
        "      if NodeA.speed == NodeB.speed and NodeA.speed == 1:\n",
        "        if abs(NodeA.i - NodeB.i) + abs(NodeA.j - NodeB.j) == 1:\n",
        "            cost = 1 \n",
        "        else: #diagonal move\n",
        "            cost = math.sqrt(2)          \n",
        "      if NodeA.speed != NodeB.speed:\n",
        "          cost = 0.5\n",
        "    else:\n",
        "      if abs(NodeA.orientation - NodeB.orientation) < 181:\n",
        "        cost = (0.5*abs(NodeA.orientation - NodeB.orientation)/45)\n",
        "      else:\n",
        "        cost = (0.5*(360 - abs(NodeA.orientation - NodeB.orientation))/45)\n",
        "    return cost\n",
        "\n"
      ],
      "execution_count": 70,
      "outputs": []
    },
    {
      "cell_type": "markdown",
      "metadata": {
        "id": "wKPuBs4W7wee"
      },
      "source": [
        "### Search Node Representation\n",
        "\n"
      ]
    },
    {
      "cell_type": "code",
      "metadata": {
        "id": "t4WwV3ZS7wef"
      },
      "source": [
        "class Node:\n",
        "    '''\n",
        "    Node class represents a search node\n",
        "\n",
        "    - i, j: coordinates of corresponding grid element\n",
        "    - g: g-value of the node\n",
        "    - h: h-value of the node\n",
        "    - F: f-value of the node\n",
        "    - parent: pointer to the parent-node \n",
        "\n",
        "    You might want to add other fields, methods for Node, depending on how you prefer to implement OPEN/CLOSED further on\n",
        "    '''\n",
        "\n",
        "    def __init__(self, i, j, speed=None, orientation=None, g = 0, h = 0, F = None, parent = None, hweight = 1):\n",
        "        self.i = i\n",
        "        self.j = j\n",
        "        self.g = g\n",
        "        self.h = h * hweight\n",
        "        self.speed = speed\n",
        "        self.orientation = orientation\n",
        "        if F is None:\n",
        "            self.F = self.g + h\n",
        "        else:\n",
        "            self.F = F        \n",
        "        self.parent = parent\n",
        "    \n",
        "    \n",
        "    def __eq__(self, other):\n",
        "        return (self.i == other.i) and (self.j == other.j) and (self.speed == other.speed) and (self.orientation == other.orientation)\n",
        "    \n",
        "    def __lt__(self, other): #self < other (self has higher priority)\n",
        "        return self.F < other.F or (abs(self.F - other.F) < EPS and (self.g > other.g))"
      ],
      "execution_count": 71,
      "outputs": []
    },
    {
      "cell_type": "markdown",
      "metadata": {
        "id": "VHTXwvPo7wef"
      },
      "source": [
        "### Visualization"
      ]
    },
    {
      "cell_type": "code",
      "metadata": {
        "id": "KgebIHdDUkJ_"
      },
      "source": [
        "def Draw(gridMap : Map, start : Node = None, goal : Node = None, path : list = None, nodesExpanded = None, nodesOpened = None):\n",
        "    '''\n",
        "    Auxiliary function that visualizes the enviromnet, the path and OPEN and CLOSED.\n",
        "    '''\n",
        "    k = 5\n",
        "    hIm = gridMap.height * k\n",
        "    wIm = gridMap.width * k\n",
        "    im = Image.new('RGB', (wIm, hIm), color = 'white')\n",
        "    draw = ImageDraw.Draw(im)\n",
        "    for i in range(gridMap.height):\n",
        "        for j in range(gridMap.width):\n",
        "            if(gridMap.cells[i][j] == 1):\n",
        "                draw.rectangle((j * k, i * k, (j + 1) * k - 1, (i + 1) * k - 1), fill=( 70, 80, 80 ))\n",
        "\n",
        "    if nodesOpened is not None:\n",
        "        for node in nodesOpened:\n",
        "            draw.rectangle((node.j * k, node.i * k, (node.j + 1) * k - 1, (node.i + 1) * k - 1), fill=(213, 219, 219), width=0)\n",
        "\n",
        "    if nodesExpanded is not None:\n",
        "      if (type(nodesExpanded) == type(YourClosed())):\n",
        "        for h,node in nodesExpanded.elements.items():\n",
        "            draw.rectangle((node.j * k, node.i * k, (node.j + 1) * k - 1, (node.i + 1) * k - 1), fill=( 131, 145, 146 ), width=0)\n",
        "      else:\n",
        "         for node in nodesExpanded:\n",
        "            draw.rectangle((node.j * k, node.i * k, (node.j + 1) * k - 1, (node.i + 1) * k - 1), fill=( 131, 145, 146 ), width=0)\n",
        "\n",
        "    if path is not None:\n",
        "        for step in path:\n",
        "            if (step is not None):\n",
        "                if (gridMap.Traversable(step.i, step.j)):\n",
        "                    draw.rectangle((step.j * k, step.i * k, (step.j + 1) * k - 1, (step.i + 1) * k - 1), fill=(52, 152, 219), width=0)\n",
        "                else:\n",
        "                    draw.rectangle((step.j * k, step.i * k, (step.j + 1) * k - 1, (step.i + 1) * k - 1), fill=(230, 126, 34), width=0)\n",
        "\n",
        "    if (start is not None) and (gridMap.Traversable(start.i, start.j)):\n",
        "        draw.rectangle((start.j * k, start.i * k, (start.j + 1) * k - 1, (start.i + 1) * k - 1), fill=(40, 180, 99), width=0)\n",
        "    \n",
        "    if (goal is not None) and (gridMap.Traversable(goal.i, goal.j)):\n",
        "        draw.rectangle((goal.j * k, goal.i * k, (goal.j + 1) * k - 1, (goal.i + 1) * k - 1), fill=(231, 76, 60), width=0)\n",
        "\n",
        "\n",
        "    fig, ax = plt.subplots(dpi=150)\n",
        "    ax.axes.xaxis.set_visible(False)\n",
        "    ax.axes.yaxis.set_visible(False)\n",
        "    plt.imshow(np.asarray(im))\n",
        "    \n",
        "    \n"
      ],
      "execution_count": 72,
      "outputs": []
    },
    {
      "cell_type": "markdown",
      "metadata": {
        "id": "EJILfS9F7weh"
      },
      "source": [
        "Example of the visualization"
      ]
    },
    {
      "cell_type": "code",
      "metadata": {
        "tags": [],
        "id": "eyieKLqe7weh",
        "colab": {
          "base_uri": "https://localhost:8080/",
          "height": 403
        },
        "outputId": "a4ac2544-e3be-43b5-97a3-c32762bebeab"
      },
      "source": [
        "height = 15\n",
        "width = 30\n",
        "mapstr = '''\n",
        ". . . . . . . . . . . . . . . . . . . . . # # . . . . . . .  \n",
        ". . . . . . . . . . . . . . . . . . . . . # # . . . . . . . \n",
        ". . . . . . . . . . . . . . . . . . . . . # # . . . . . . . \n",
        ". . . # # . . . . . . . . . . . . . . . . # # . . . . . . . \n",
        ". . . # # . . . . . . . . # # . . . . . . # # . . . . . . . \n",
        ". . . # # . . . . . . . . # # . . . . . . # # # # # . . . . \n",
        ". . . # # . . . . . . . . # # . . . . . . # # # # # . . . . \n",
        ". . . # # . . . . . . . . # # . . . . . . . . . . . . . . . \n",
        ". . . # # . . . . . . . . # # . . . . . . . . . . . . . . . \n",
        ". . . # # . . . . . . . . # # . . . . . . . . . . . . . . . \n",
        ". . . # # . . . . . . . . # # . . . . . . . . . . . . . . . \n",
        ". . . # # . . . . . . . . # # . . . . . . . . . . . . . . . \n",
        ". . . . . . . . . . . . . # # . . . . . . . . . . . . . . . \n",
        ". . . . . . . . . . . . . # # . . . . . . . . . . . . . . .\n",
        ". . . . . . . . . . . . . # # . . . . . . . . . . . . . . .\n",
        "'''\n",
        "\n",
        "testMap = Map()\n",
        "testMap.ReadFromString(mapstr, width, height)\n",
        "start = Node(1, 1)\n",
        "goal = Node(13, 28)\n",
        "Draw(testMap, start, goal)\n",
        "\n"
      ],
      "execution_count": 73,
      "outputs": [
        {
          "output_type": "display_data",
          "data": {
            "image/png": "[encoded data removed]",
            "text/plain": [
              "<Figure size 900x600 with 1 Axes>"
            ]
          },
          "metadata": {
            "tags": [],
            "needs_background": "light"
          }
        }
      ]
    },
    {
      "cell_type": "markdown",
      "metadata": {
        "id": "5SfU5x7K7wei"
      },
      "source": [
        "### Implementing OPEN and CLOSED\n",
        "Efficient implementation of OPEN and CLOSED is crucial for any search algorithm. Below you may find basic implementations that use lists to store the elements of OPEN and CLOSED. This is not very efficient. Your task is to create your own implementations.\n",
        "\n",
        "It's a good idea to modify CLOSED first (as it is pretty straghtforward to do so). Then check that everything is OK, i.e. the search algorithms work faster and the result is correct. Then proceed to modifying OPEN (which is not that trivial as might seem).\n",
        "\n",
        "PS: You may wish to add additional fields, methods, method-arguments etc. to your implementations.\n"
      ]
    },
    {
      "cell_type": "code",
      "metadata": {
        "id": "JPJLZSPh7wej"
      },
      "source": [
        "class OpenBase:\n",
        "\n",
        "    def __init__(self):\n",
        "        pass\n",
        "\n",
        "\n",
        "    def __len__(self):\n",
        "        pass\n",
        "\n",
        "\n",
        "    def __iter__(self):\n",
        "        pass\n",
        "\n",
        "\n",
        "    def isEmpty(self):\n",
        "        '''\n",
        "        isEmpty should inform whether the OPEN is exhausted or not in the former case the search main loop should be interrupted\n",
        "        '''\n",
        "        pass\n",
        "\n",
        "\n",
        "    def AddNode(self, node : Node, *args):\n",
        "        '''\n",
        "        AddNode is the method that puts (e.g. inserts or updates) the node to OPEN\n",
        "        When implementing it do not forget to handle all possible cases:\n",
        "         - node already in OPEN but the new g-value is better;\n",
        "         - node already in OPEN but the new g-value is worse;\n",
        "         - node is not in OPEN yet.\n",
        "        '''\n",
        "        pass\n",
        "\n",
        "\n",
        "    def GetBestNode(self, *args):\n",
        "        '''\n",
        "        GetBestNode is the method that \n",
        "         i) finds the best node, i.e. the one with the lowest f-value (f=g+h) (for Dijkstra h=0),\n",
        "         ii) removes it from OPEN and \n",
        "         iii) returns it\n",
        "        '''\n",
        "        pass\n",
        "\n"
      ],
      "execution_count": 74,
      "outputs": []
    },
    {
      "cell_type": "code",
      "metadata": {
        "id": "rgKqXG0K7wej"
      },
      "source": [
        "class OpenList (OpenBase):\n",
        "\n",
        "    def __init__(self):\n",
        "        self.elements = []\n",
        "    \n",
        "\n",
        "    def __iter__(self):\n",
        "        return iter(self.elements)\n",
        "\n",
        "\n",
        "    def __len__(self):\n",
        "        return len(self.elements)\n",
        "\n",
        "\n",
        "    def isEmpty(self):\n",
        "        if len(self.elements) != 0:\n",
        "            return False\n",
        "        return True\n",
        "    \n",
        "\n",
        "    def GetBestNode(self, *args):\n",
        "        bestF = math.inf\n",
        "        bestCoord = 0\n",
        "        for i in range(len(self.elements)):\n",
        "            if self.elements[i].F < bestF:\n",
        "                bestCoord = i\n",
        "                bestF = self.elements[i].F\n",
        "                \n",
        "        best = self.elements.pop(bestCoord)\n",
        "        return best\n",
        "    \n",
        "\n",
        "    def AddNode(self, node : Node, *args):\n",
        "        for existingNode in self.elements:\n",
        "            if existingNode == node:\n",
        "                if existingNode.g > node.g:\n",
        "                    existingNode.g = node.g\n",
        "                    existingNode.F = node.F\n",
        "                    existingNode.parent = node.parent\n",
        "                    return\n",
        "                else:\n",
        "                    return\n",
        "        self.elements.append(node)\n",
        "        return\n"
      ],
      "execution_count": 75,
      "outputs": []
    },
    {
      "cell_type": "code",
      "metadata": {
        "id": "fyhUF4Zs7wek"
      },
      "source": [
        "class ClosedBase:\n",
        "\n",
        "    def __init__(self):\n",
        "        pass\n",
        "\n",
        "\n",
        "    def __iter__(self):\n",
        "        pass\n",
        "    \n",
        "\n",
        "    def __len__(self):\n",
        "        pass\n",
        "    \n",
        "    \n",
        "    def AddNode(self, item : Node):\n",
        "        pass\n",
        "\n",
        "\n",
        "    def WasExpanded(self, item : Node):\n",
        "        pass\n",
        "\n"
      ],
      "execution_count": 76,
      "outputs": []
    },
    {
      "cell_type": "code",
      "metadata": {
        "id": "AsNuil5x7wek"
      },
      "source": [
        "class ClosedList (ClosedBase):\n",
        "\n",
        "    \n",
        "    def __init__(self):\n",
        "        self.elements = []\n",
        "\n",
        "\n",
        "    def __iter__(self):\n",
        "        return iter(self.elements)\n",
        "    \n",
        "\n",
        "    def __len__(self):\n",
        "        return len(self.elements)\n",
        "    \n",
        "\n",
        "    def AddNode(self, item : Node):\n",
        "        '''\n",
        "        AddNode is the method that inserts the node to CLOSED\n",
        "        '''\n",
        "        self.elements.append(item)\n",
        "     \n",
        "     \n",
        "    def WasExpanded(self, item : Node):\n",
        "        '''\n",
        "        WasExpanded is the method that checks if a node has been expanded\n",
        "        '''\n",
        "        return item in self.elements"
      ],
      "execution_count": 77,
      "outputs": []
    },
    {
      "cell_type": "code",
      "metadata": {
        "id": "iA3HDBRGUkKN"
      },
      "source": [
        "class YourOpen (OpenBase):\n",
        "\n",
        "    \n",
        "    def __init__(self):\n",
        "        self.elements = dict()\n",
        "        self.sortF = dict()\n",
        "    \n",
        "    def __iter__(self):\n",
        "        return iter(self.elements)\n",
        "    \n",
        "    def __len__(self):\n",
        "         return len(self.elements)\n",
        "\n",
        "    def isEmpty(self):\n",
        "        return len(self.elements) == 0\n",
        "\n",
        "    def AddNode(self,node:Node, *args):\n",
        "            el = self.elements.get(((node.i, node.j), (node.speed, node.orientation)))\n",
        "            if el:\n",
        "                if el.g > node.g:\n",
        "                    mn = el.F\n",
        "                    self.elements[((node.i, node.j), (node.speed, node.orientation))] = Node(node.i, node.j, node.speed, node.orientation, node.g, node.h, node.F, node.parent)\n",
        "                    self.sortF[mn].remove(((node.i, node.j), (node.speed, node.orientation)))\n",
        "                    if (len(self.sortF[mn]) == 0):\n",
        "                        self.sortF.pop(mn)\n",
        "    \n",
        "                    if self.sortF.get(node.F):\n",
        "                        self.sortF.update({node.F: self.sortF[node.F] + [((node.i, node.j), (node.speed, node.orientation))]})\n",
        "                    else:\n",
        "                        self.sortF.update({node.F: [((node.i, node.j), (node.speed, node.orientation))]})\n",
        "                return\n",
        "            self.elements.update({((node.i, node.j), (node.speed, node.orientation)): node})\n",
        "    \n",
        "            if self.sortF.get(node.F):\n",
        "                self.sortF.update({node.F: self.sortF[node.F] + [((node.i, node.j), (node.speed, node.orientation))]})\n",
        "            else:\n",
        "                self.sortF.update({node.F: [((node.i, node.j), (node.speed, node.orientation))]})\n",
        "            return\n",
        "\n",
        "    def GetBestNode(self, *args):\n",
        "         mn = min(self.sortF)\n",
        "         k = self.sortF[mn][0]\n",
        "         if (len(self.sortF[mn])) == 1:\n",
        "               self.sortF.pop(mn)\n",
        "         else:\n",
        "               self.sortF.update({mn: self.sortF[mn][1:]})\n",
        "         best = self.elements.pop(k)\n",
        "         return best"
      ],
      "execution_count": 78,
      "outputs": []
    },
    {
      "cell_type": "code",
      "metadata": {
        "id": "11WBGAam7wel"
      },
      "source": [
        "class YourClosed (ClosedBase):\n",
        "    \n",
        "\n",
        "    def __init__(self):\n",
        "        self.elements = dict()\n",
        "\n",
        "\n",
        "    def __iter__(self):\n",
        "        return iter(self.elements)\n",
        "    \n",
        "\n",
        "    def __len__(self):\n",
        "        return len(self.elements)\n",
        "\n",
        "\n",
        "    def AddNode(self, item : Node):\n",
        "        self.elements.update({((item.i, item.j),(item.speed, item.orientation)): item})\n",
        "\n",
        "\n",
        "    def WasExpanded(self, item : Node):\n",
        "        return ((item.i, item.j),(item.speed, item.orientation)) in self.elements\n",
        "        "
      ],
      "execution_count": 79,
      "outputs": []
    },
    {
      "cell_type": "markdown",
      "metadata": {
        "id": "fMXxBknn7wem"
      },
      "source": [
        "## Weighted A* algorithm with velocity/orientation"
      ]
    },
    {
      "cell_type": "code",
      "metadata": {
        "id": "i-RMGPzS7wem"
      },
      "source": [
        "def DiagonalDistance(i1, j1, i2, j2):\n",
        "     return math.sqrt(abs(abs(j1 - j2) - abs(i1 - i2)) + math.sqrt(2)*min(abs(j1 - j2),abs(i1 - i2) ) )"
      ],
      "execution_count": 80,
      "outputs": []
    },
    {
      "cell_type": "code",
      "metadata": {
        "id": "BY3cZ1nH7wem"
      },
      "source": [
        "def ManhattanDistance(i1, j1, i2, j2):\n",
        "    return (abs(i1 - i2) + abs(j1 - j2))"
      ],
      "execution_count": 81,
      "outputs": []
    },
    {
      "cell_type": "code",
      "metadata": {
        "id": "U07mwdi_7wem"
      },
      "source": [
        "def EuclideanDistance(i1, j1, i2, j2):\n",
        "    return math.sqrt((i1 - i2)**2 + (j1 - j2)**2)"
      ],
      "execution_count": 82,
      "outputs": []
    },
    {
      "cell_type": "code",
      "metadata": {
        "id": "bMa8czBa7wem"
      },
      "source": [
        "def getOrientation(parent, node):\n",
        "    heading = math.acos((node.j - parent.j)/math.sqrt((node.i - parent.i)**2 + (node.j - parent.j)**2))*180/math.pi\n",
        "    if parent.i < node.i:\n",
        "        heading = 360 - heading\n",
        "    return heading"
      ],
      "execution_count": 83,
      "outputs": []
    },
    {
      "cell_type": "code",
      "metadata": {
        "id": "ihsuPzma7wen"
      },
      "source": [
        "def WAStar(gridMap : Map, iStart : int, jStart : int, iGoal : int, jGoal : int, heuristicFunction = ManhattanDistance,\\\n",
        "           openType = OpenList, closedType = ClosedList, diagonalMoves = False, hweight = 1.0):\n",
        "\n",
        "    OPEN = openType()\n",
        "    CLOSED = closedType()\n",
        "    start = Node(iStart, jStart, 0, 0, hweight=hweight)\n",
        "    OPEN.AddNode(start)\n",
        "    while not OPEN.isEmpty():\n",
        "        curNode = OPEN.GetBestNode()\n",
        "        CLOSED.AddNode(curNode)\n",
        "        if (((curNode.i, curNode.j) == (iGoal, jGoal)) and (curNode.speed == 0)):\n",
        "            return (True, curNode, CLOSED, OPEN)\n",
        "        neighbors = gridMap.GetNeighbors(curNode.i, curNode.j, curNode.speed, curNode.orientation, diagonalMoves)\n",
        "        for n in neighbors:\n",
        "            newNode = Node(n[0], n[1], n[2], n[3])\n",
        "            newNode.g = curNode.g + ComputeCost(curNode, newNode)\n",
        "            newNode.h = hweight * heuristicFunction(newNode.i, newNode.j, iGoal, jGoal)\n",
        "            newNode.F = newNode.g + newNode.h\n",
        "            newNode.parent = curNode\n",
        "            if CLOSED.WasExpanded(newNode):\n",
        "                continue\n",
        "            OPEN.AddNode(newNode)\n",
        "    return False, None, CLOSED, OPEN"
      ],
      "execution_count": 84,
      "outputs": []
    },
    {
      "cell_type": "markdown",
      "metadata": {
        "id": "lBnJj-5L7wen"
      },
      "source": [
        "### Validating the results\n"
      ]
    },
    {
      "cell_type": "code",
      "metadata": {
        "id": "yMQrWs4z7wen"
      },
      "source": [
        "def MakePath(goal):\n",
        "    '''\n",
        "    Creates a path by tracing parent pointers from the goal node to the start node\n",
        "    It also returns path's length.\n",
        "    '''\n",
        "\n",
        "    length = goal.g\n",
        "    current = goal\n",
        "    path = []\n",
        "    while current.parent:\n",
        "        path.append(current)\n",
        "        current = current.parent\n",
        "    path.append(current)\n",
        "    return path[::-1], length"
      ],
      "execution_count": 85,
      "outputs": []
    },
    {
      "cell_type": "code",
      "metadata": {
        "id": "VFzY0HE47wen"
      },
      "source": [
        "def ReadTaskFromFile(path):\n",
        "    '''\n",
        "    Reads map, start/goal positions and true value of path length between given start and goal from file by path. \n",
        "    '''\n",
        "\n",
        "    tasksFile = open(path)\n",
        "    count = 0\n",
        "    height = int(tasksFile.readline())\n",
        "    width = int(tasksFile.readline())\n",
        "    cells = [[0 for _ in range(width)] for _ in range(height)]\n",
        "    i = 0\n",
        "    j = 0\n",
        "\n",
        "    for l in tasksFile:\n",
        "        j = 0\n",
        "        for c in l:\n",
        "            if c == '.':\n",
        "                cells[i][j] = 0\n",
        "            elif c == '#':\n",
        "                cells[i][j] = 1\n",
        "            else:\n",
        "                continue\n",
        "            \n",
        "            j += 1\n",
        "            \n",
        "        if j != width:\n",
        "            raise Exception(\"Size Error. Map width = \", j, \", but must be\", width, \"(map line: \", i, \")\")\n",
        "                \n",
        "        i += 1\n",
        "        if(i == height):\n",
        "            break\n",
        "    \n",
        "    iStart = int(tasksFile.readline())\n",
        "    jStart = int(tasksFile.readline())\n",
        "    iGoal = int(tasksFile.readline())\n",
        "    jGoal = int(tasksFile.readline())\n",
        "    cardinalLength = float(tasksFile.readline())\n",
        "    diagonalLength = float(tasksFile.readline())\n",
        "    return (width, height, cells, iStart, jStart, iGoal, jGoal, cardinalLength, diagonalLength)"
      ],
      "execution_count": 86,
      "outputs": []
    },
    {
      "cell_type": "markdown",
      "metadata": {
        "id": "bVcd73217weo"
      },
      "source": [
        "`Simpletest` tests the pathfing algorithm on a single simple instance, `Massivetest` - on a series of a move involved instances. Both tests assume that the search function fits the following pattern:\n",
        "\n",
        "\n",
        "`Search(taskMap, start.i, start.j, goal.i, goal.j, *optional arguments*) -> (pathFound, lastState, CLOSED, OPEN)`, where\n",
        "\n",
        "- taskMap -- grid\n",
        "- start.i, start.j -- (i,j) coordinates of the start cell\n",
        "- goal.i, goal.j -- (i,j) coordinates of the goal cell\n",
        "- *optional arguments* -- additional parameters of the search function, passed with `*args`. Example of additional parameters you can see at Dijkstra and A* functions\n",
        "- pathFound -- `True` if path was found, `False` otherwise\n",
        "- lastState -- last state of the path. `None` if path was not found\n",
        "- CLOSED -- CLOSED set (at the last step)\n",
        "- OPEN -- OPEN set (at the last step)"
      ]
    },
    {
      "cell_type": "code",
      "metadata": {
        "id": "zwFBVs417weo"
      },
      "source": [
        "from random import randint\n",
        "import sys\n",
        "def SimpleTest(SearchFunction, task, *args):\n",
        "    '''\n",
        "    SimpleTest runs SearchFunction on one task (use a number from 0 to 25 to choose a certain debug task on simple map or None to choose a random task from this pool) with *args as optional arguments and displays:\n",
        "     - 'Path found!' and some statistics -- path was found\n",
        "     - 'Path not found!' -- path was not found\n",
        "     - 'Execution error' -- an error occurred while executing the SearchFunction In first two cases function also draws visualisation of the task\n",
        "\n",
        "    '''\n",
        "    \n",
        "    height = 15\n",
        "    width = 30\n",
        "    mapstr = '''\n",
        ". . . . . . . . . . . . . . . . . . . . . # # . . . . . . .  \n",
        ". . . . . . . . . . . . . . . . . . . . . # # . . . . . . . \n",
        ". . . . . . . . . . . . . . . . . . . . . # # . . . . . . . \n",
        ". . . # # . . . . . . . . . . . . . . . . # # . . . . . . . \n",
        ". . . # # . . . . . . . . # # . . . . . . # # . . . . . . . \n",
        ". . . # # . . . . . . . . # # . . . . . . # # # # # . . . . \n",
        ". . . # # . . . . . . . . # # . . . . . . # # # # # . . . . \n",
        ". . . # # . . . . . . . . # # . . . . . . . . . . . . . . . \n",
        ". . . # # . . . . . . . . # # . . . . . . . . . . . . . . . \n",
        ". . . # # . . . . . . . . # # . . . . . . . . . . . . . . . \n",
        ". . . # # . . . . . . . . # # . . . . . . . . . . . . . . . \n",
        ". . . # # . . . . . . . . # # . . . . . . . . . . . . . . . \n",
        ". . . . . . . . . . . . . # # . . . . . . . . . . . . . . . \n",
        ". . . . . . . . . . . . . # # . . . . . . . . . . . . . . .\n",
        ". . . . . . . . . . . . . # # . . . . . . . . . . . . . . .\n",
        "'''\n",
        "\n",
        "    taskMap = Map()\n",
        "    taskMap.ReadFromString(mapstr, width, height)\n",
        "    starts = [(9, 0), (13, 0), (7, 28), (14, 29), (4, 1), (0, 17), (5, 6), (5, 20), (12, 2), (7, 28), (11, 9), (3, 2), (3, 17), (13, 20), (1, 1), (9, 10), (14, 6), (2, 0), (9, 28), (8, 6), (11, 6), (3, 0), (8, 9), (14, 7), (12, 4)]\n",
        "    goals = [(11, 20), (2, 19), (6, 5), (4, 18), (9, 20), (7, 0), (2, 25), (12, 4), (3, 25), (0, 12), (4, 23), (2, 24), (9, 2), (1, 6), (13, 29), (14, 29), (2, 28), (14, 16), (13, 0), (1, 27), (14, 25), (10, 20), (12, 28), (2, 29), (1, 29)]\n",
        "    cardLengths = [42, 34, 39, 26, 34, 29, 44, 35, 55, 30, 47, 49, 29, 30, 45, 44, 52, 31, 55, 46, 46, 35, 41, 52 ,55]\n",
        "    diagLengths = [39.31370849898476, 31.313708498984763, 33.39949493661167, 21.72792206135786, 31.485281374238575,\\\n",
        "                       27.656854249492383, 37.39949493661167, 30.72792206135786, 47.47056274847714, 23.39949493661167,\\\n",
        "                       42.89949493661167, 43.39949493661166, 28.414213562373096, 26.89949493661167, 36.97056274847715,\\\n",
        "                       36.38477631085024, 45.970562748477136, 30.82842712474619 ,46.79898987322332, 38.72792206135786,\\\n",
        "                       36.627416997969526, 30.89949493661167, 33.97056274847715, 45.970562748477136, 47.79898987322333]\n",
        "\n",
        "\n",
        "    if (task is None) or not (0 <= task < 25):\n",
        "        task = randint(0, 24)\n",
        "\n",
        "\n",
        "    start = Node(*starts[task])\n",
        "    goal = Node(*goals[task])\n",
        "    cardLength = cardLengths[task]\n",
        "    diagLength = diagLengths[task]\n",
        "    try:\n",
        "        result = SearchFunction(taskMap, start.i, start.j, goal.i, goal.j, *args)\n",
        "        nodesExpanded = result[2]\n",
        "        nodesOpened = result[3]\n",
        "        if result[0]:\n",
        "            path = MakePath(result[1])\n",
        "            correct = (int(path[1])  == int(cardLength) or abs(float(path[1]) - float(diagLength)) < 1e-6)\n",
        "            Draw(taskMap, start, goal, path[0], nodesExpanded, nodesOpened)\n",
        "            print(\"Path found! Length: \" + str(path[1]) + \". Nodes created: \" + str(len(nodesOpened) + len(nodesExpanded)) + \". Number of steps: \" + str(len(nodesExpanded)) + \". Correct: \" + str(correct))\n",
        "        else:\n",
        "            print(\"Path not found!\")\n",
        "\n",
        "    except Exception as e:\n",
        "        print(\"Execution error\")\n",
        "        tb = sys.exc_info()[2]\n",
        "        print(e)\n",
        "        raise e.with_traceback(tb)"
      ],
      "execution_count": 87,
      "outputs": []
    },
    {
      "cell_type": "code",
      "metadata": {
        "id": "C0I7xOuu7weo"
      },
      "source": [
        "def MassiveTest(SearchFunction, *args):\n",
        "    '''\n",
        "    MassiveTest runs SearchFunction on set of differnt tasks (from directory Data/) with *args as optional arguments and for every task displays one of these short reports:\n",
        "     - 'Path found!' and some statistics -- path was found\n",
        "     - 'Path not found!' -- path was not found\n",
        "     - 'Execution error' -- an error occurred while executing the SearchFunction In first two cases function also draws visualisation of the task.\n",
        "    \n",
        "    Massive test return a dictionary with statistics of path finding. Dictionary contains next fields:\n",
        "     - \"corr\" -- the correctness of every path length (True/False)\n",
        "     - \"len\" -- the length of every path (0.0 if path not found)\n",
        "     - \"nc\" -- the number of created nodes for every task execution\n",
        "     - \"st\" -- the number of steps of algorithm for every task execution\n",
        "    '''\n",
        "    \n",
        "    stat = dict()\n",
        "    stat[\"corr\"] = []\n",
        "    stat[\"len\"] = []\n",
        "    stat[\"nc\"] = []\n",
        "    stat[\"st\"] = []\n",
        "    taskNum = 9\n",
        "    taskMap = Map()\n",
        "    for taskCount in range(taskNum):\n",
        "        taskFileName = \"Data/\" + str(taskCount) + \".map\"\n",
        "        width, height, cells, iStart, jStart, iGoal, jGoal, cardinalLength, diagonalLength = ReadTaskFromFile(taskFileName)\n",
        "        taskMap.SetGridCells(width,height,cells)\n",
        "        try:\n",
        "            result = SearchFunction(taskMap, iStart, jStart, iGoal, jGoal, *args)\n",
        "            nodesExpanded = result[2]\n",
        "            nodesOpened = result[3]\n",
        "            if result[0]:\n",
        "                path = MakePath(result[1])\n",
        "                stat[\"len\"].append(path[1])\n",
        "                correct = int(path[1])  == int(cardinalLength) or abs(float(path[1]) - float(diagonalLength)) < 1e-6\n",
        "                stat[\"corr\"].append(correct)\n",
        "                #Draw(taskMap, Node(iStart, jStart), Node(iGoal, jGoal), path[0], nodesExpanded, nodesOpened)\n",
        "                print(\"Path found! Length: \" + str(path[1]) + \". Nodes created: \" + str(len(nodesOpened) + len(nodesExpanded)) + \". Number of steps: \" + str(len(nodesExpanded)) + \". Correct: \" + str(correct))\n",
        "            else:\n",
        "                print(\"Path not found!\")\n",
        "                stat[\"corr\"].append(False)\n",
        "                stat[\"len\"].append(0.0)\n",
        "\n",
        "            stat[\"nc\"].append(len(nodesOpened) + len(nodesExpanded))\n",
        "            stat[\"st\"].append(len(nodesExpanded))\n",
        "\n",
        "        except Exception as e:\n",
        "             print(\"Execution error\")\n",
        "             tb = sys.exc_info()[2]\n",
        "             print(e)\n",
        "             raise e.with_traceback(tb)\n",
        "\n",
        "    return stat"
      ],
      "execution_count": 88,
      "outputs": []
    },
    {
      "cell_type": "code",
      "metadata": {
        "tags": [],
        "id": "GX9LkofN7wep",
        "colab": {
          "base_uri": "https://localhost:8080/",
          "height": 1000
        },
        "outputId": "c7444940-3827-41d8-de4d-3d94f375c591"
      },
      "source": [
        "for i in range(25):\n",
        "  %time SimpleTest(WAStar, 1, ManhattanDistance, OpenList, ClosedList, False, 1.0)"
      ],
      "execution_count": 90,
      "outputs": [
        {
          "output_type": "stream",
          "text": [
            "Path found! Length: 34.0. Nodes created: 1052. Number of steps: 691. Correct: True\n",
            "CPU times: user 235 ms, sys: 1.03 ms, total: 236 ms\n",
            "Wall time: 238 ms\n",
            "Path found! Length: 34.0. Nodes created: 1052. Number of steps: 691. Correct: True\n",
            "CPU times: user 224 ms, sys: 2 µs, total: 224 ms\n",
            "Wall time: 222 ms\n",
            "Path found! Length: 34.0. Nodes created: 1052. Number of steps: 691. Correct: True\n",
            "CPU times: user 227 ms, sys: 1.02 ms, total: 228 ms\n",
            "Wall time: 226 ms\n",
            "Path found! Length: 34.0. Nodes created: 1052. Number of steps: 691. Correct: True\n",
            "CPU times: user 234 ms, sys: 10 µs, total: 234 ms\n",
            "Wall time: 231 ms\n",
            "Path found! Length: 34.0. Nodes created: 1052. Number of steps: 691. Correct: True\n",
            "CPU times: user 242 ms, sys: 1.97 ms, total: 244 ms\n",
            "Wall time: 245 ms\n",
            "Path found! Length: 34.0. Nodes created: 1052. Number of steps: 691. Correct: True\n",
            "CPU times: user 233 ms, sys: 1.01 ms, total: 234 ms\n",
            "Wall time: 232 ms\n",
            "Path found! Length: 34.0. Nodes created: 1052. Number of steps: 691. Correct: True\n",
            "CPU times: user 236 ms, sys: 4 µs, total: 236 ms\n",
            "Wall time: 234 ms\n",
            "Path found! Length: 34.0. Nodes created: 1052. Number of steps: 691. Correct: True\n",
            "CPU times: user 230 ms, sys: 3.99 ms, total: 234 ms\n",
            "Wall time: 233 ms\n",
            "Path found! Length: 34.0. Nodes created: 1052. Number of steps: 691. Correct: True\n",
            "CPU times: user 222 ms, sys: 1.01 ms, total: 223 ms\n",
            "Wall time: 222 ms\n",
            "Path found! Length: 34.0. Nodes created: 1052. Number of steps: 691. Correct: True\n",
            "CPU times: user 234 ms, sys: 983 µs, total: 235 ms\n",
            "Wall time: 234 ms\n",
            "Path found! Length: 34.0. Nodes created: 1052. Number of steps: 691. Correct: True\n",
            "CPU times: user 228 ms, sys: 997 µs, total: 229 ms\n",
            "Wall time: 227 ms\n",
            "Path found! Length: 34.0. Nodes created: 1052. Number of steps: 691. Correct: True\n",
            "CPU times: user 239 ms, sys: 2.02 ms, total: 241 ms\n",
            "Wall time: 240 ms\n",
            "Path found! Length: 34.0. Nodes created: 1052. Number of steps: 691. Correct: True\n",
            "CPU times: user 235 ms, sys: 0 ns, total: 235 ms\n",
            "Wall time: 237 ms\n",
            "Path found! Length: 34.0. Nodes created: 1052. Number of steps: 691. Correct: True\n",
            "CPU times: user 241 ms, sys: 2.02 ms, total: 243 ms\n",
            "Wall time: 242 ms\n",
            "Path found! Length: 34.0. Nodes created: 1052. Number of steps: 691. Correct: True\n",
            "CPU times: user 236 ms, sys: 2.01 ms, total: 238 ms\n",
            "Wall time: 236 ms\n",
            "Path found! Length: 34.0. Nodes created: 1052. Number of steps: 691. Correct: True\n",
            "CPU times: user 235 ms, sys: 7.03 ms, total: 242 ms\n",
            "Wall time: 243 ms\n",
            "Path found! Length: 34.0. Nodes created: 1052. Number of steps: 691. Correct: True\n",
            "CPU times: user 233 ms, sys: 2 ms, total: 235 ms\n",
            "Wall time: 236 ms\n",
            "Path found! Length: 34.0. Nodes created: 1052. Number of steps: 691. Correct: True\n",
            "CPU times: user 231 ms, sys: 0 ns, total: 231 ms\n",
            "Wall time: 233 ms\n",
            "Path found! Length: 34.0. Nodes created: 1052. Number of steps: 691. Correct: True\n",
            "CPU times: user 234 ms, sys: 3.99 ms, total: 238 ms\n",
            "Wall time: 239 ms\n",
            "Path found! Length: 34.0. Nodes created: 1052. Number of steps: 691. Correct: True\n",
            "CPU times: user 237 ms, sys: 1.03 ms, total: 238 ms\n",
            "Wall time: 238 ms\n"
          ],
          "name": "stdout"
        },
        {
          "output_type": "stream",
          "text": [
            "/usr/local/lib/python3.7/dist-packages/ipykernel_launcher.py:42: RuntimeWarning: More than 20 figures have been opened. Figures created through the pyplot interface (`matplotlib.pyplot.figure`) are retained until explicitly closed and may consume too much memory. (To control this warning, see the rcParam `figure.max_open_warning`).\n"
          ],
          "name": "stderr"
        },
        {
          "output_type": "stream",
          "text": [
            "Path found! Length: 34.0. Nodes created: 1052. Number of steps: 691. Correct: True\n",
            "CPU times: user 226 ms, sys: 6.02 ms, total: 232 ms\n",
            "Wall time: 232 ms\n"
          ],
          "name": "stdout"
        },
        {
          "output_type": "stream",
          "text": [
            "/usr/local/lib/python3.7/dist-packages/ipykernel_launcher.py:42: RuntimeWarning: More than 20 figures have been opened. Figures created through the pyplot interface (`matplotlib.pyplot.figure`) are retained until explicitly closed and may consume too much memory. (To control this warning, see the rcParam `figure.max_open_warning`).\n"
          ],
          "name": "stderr"
        },
        {
          "output_type": "stream",
          "text": [
            "Path found! Length: 34.0. Nodes created: 1052. Number of steps: 691. Correct: True\n",
            "CPU times: user 244 ms, sys: 2.02 ms, total: 246 ms\n",
            "Wall time: 258 ms\n"
          ],
          "name": "stdout"
        },
        {
          "output_type": "stream",
          "text": [
            "/usr/local/lib/python3.7/dist-packages/ipykernel_launcher.py:42: RuntimeWarning: More than 20 figures have been opened. Figures created through the pyplot interface (`matplotlib.pyplot.figure`) are retained until explicitly closed and may consume too much memory. (To control this warning, see the rcParam `figure.max_open_warning`).\n"
          ],
          "name": "stderr"
        },
        {
          "output_type": "stream",
          "text": [
            "Path found! Length: 34.0. Nodes created: 1052. Number of steps: 691. Correct: True\n",
            "CPU times: user 233 ms, sys: 1.02 ms, total: 234 ms\n",
            "Wall time: 234 ms\n"
          ],
          "name": "stdout"
        },
        {
          "output_type": "stream",
          "text": [
            "/usr/local/lib/python3.7/dist-packages/ipykernel_launcher.py:42: RuntimeWarning: More than 20 figures have been opened. Figures created through the pyplot interface (`matplotlib.pyplot.figure`) are retained until explicitly closed and may consume too much memory. (To control this warning, see the rcParam `figure.max_open_warning`).\n"
          ],
          "name": "stderr"
        },
        {
          "output_type": "stream",
          "text": [
            "Path found! Length: 34.0. Nodes created: 1052. Number of steps: 691. Correct: True\n",
            "CPU times: user 232 ms, sys: 1 ms, total: 233 ms\n",
            "Wall time: 233 ms\n"
          ],
          "name": "stdout"
        },
        {
          "output_type": "stream",
          "text": [
            "/usr/local/lib/python3.7/dist-packages/ipykernel_launcher.py:42: RuntimeWarning: More than 20 figures have been opened. Figures created through the pyplot interface (`matplotlib.pyplot.figure`) are retained until explicitly closed and may consume too much memory. (To control this warning, see the rcParam `figure.max_open_warning`).\n"
          ],
          "name": "stderr"
        },
        {
          "output_type": "stream",
          "text": [
            "Path found! Length: 34.0. Nodes created: 1052. Number of steps: 691. Correct: True\n",
            "CPU times: user 233 ms, sys: 997 µs, total: 234 ms\n",
            "Wall time: 236 ms\n"
          ],
          "name": "stdout"
        },
        {
          "output_type": "display_data",
          "data": {
            "image/png": "[encoded data removed]",
            "text/plain": [
              "<Figure size 900x600 with 1 Axes>"
            ]
          },
          "metadata": {
            "tags": [],
            "needs_background": "light"
          }
        },
        {
          "output_type": "display_data",
          "data": {
            "image/png": "[encoded data removed]",
            "text/plain": [
              "<Figure size 900x600 with 1 Axes>"
            ]
          },
          "metadata": {
            "tags": [],
            "needs_background": "light"
          }
        },
        {
          "output_type": "display_data",
          "data": {
            "image/png": "[encoded data removed]",
            "text/plain": [
              "<Figure size 900x600 with 1 Axes>"
            ]
          },
          "metadata": {
            "tags": [],
            "needs_background": "light"
          }
        },
        {
          "output_type": "display_data",
          "data": {
            "image/png": "[encoded data removed]",
            "text/plain": [
              "<Figure size 900x600 with 1 Axes>"
            ]
          },
          "metadata": {
            "tags": [],
            "needs_background": "light"
          }
        },
        {
          "output_type": "display_data",
          "data": {
            "image/png": "[encoded data removed]",
            "text/plain": [
              "<Figure size 900x600 with 1 Axes>"
            ]
          },
          "metadata": {
            "tags": [],
            "needs_background": "light"
          }
        },
        {
          "output_type": "display_data",
          "data": {
            "image/png": "[encoded data removed]",
            "text/plain": [
              "<Figure size 900x600 with 1 Axes>"
            ]
          },
          "metadata": {
            "tags": [],
            "needs_background": "light"
          }
        },
        {
          "output_type": "display_data",
          "data": {
            "image/png": "[encoded data removed]",
            "text/plain": [
              "<Figure size 900x600 with 1 Axes>"
            ]
          },
          "metadata": {
            "tags": [],
            "needs_background": "light"
          }
        },
        {
          "output_type": "display_data",
          "data": {
            "image/png": "[encoded data removed]",
            "text/plain": [
              "<Figure size 900x600 with 1 Axes>"
            ]
          },
          "metadata": {
            "tags": [],
            "needs_background": "light"
          }
        },
        {
          "output_type": "display_data",
          "data": {
            "image/png": "[encoded data removed]",
            "text/plain": [
              "<Figure size 900x600 with 1 Axes>"
            ]
          },
          "metadata": {
            "tags": [],
            "needs_background": "light"
          }
        },
        {
          "output_type": "display_data",
          "data": {
            "image/png": "[encoded data removed]",
            "text/plain": [
              "<Figure size 900x600 with 1 Axes>"
            ]
          },
          "metadata": {
            "tags": [],
            "needs_background": "light"
          }
        },
        {
          "output_type": "display_data",
          "data": {
            "image/png": "[encoded data removed]",
            "text/plain": [
              "<Figure size 900x600 with 1 Axes>"
            ]
          },
          "metadata": {
            "tags": [],
            "needs_background": "light"
          }
        },
        {
          "output_type": "display_data",
          "data": {
            "image/png": "[encoded data removed]",
            "text/plain": [
              "<Figure size 900x600 with 1 Axes>"
            ]
          },
          "metadata": {
            "tags": [],
            "needs_background": "light"
          }
        },
        {
          "output_type": "display_data",
          "data": {
            "image/png": "[encoded data removed]",
            "text/plain": [
              "<Figure size 900x600 with 1 Axes>"
            ]
          },
          "metadata": {
            "tags": [],
            "needs_background": "light"
          }
        },
        {
          "output_type": "display_data",
          "data": {
            "image/png": "[encoded data removed]",
            "text/plain": [
              "<Figure size 900x600 with 1 Axes>"
            ]
          },
          "metadata": {
            "tags": [],
            "needs_background": "light"
          }
        },
        {
          "output_type": "display_data",
          "data": {
            "image/png": "[encoded data removed]",
            "text/plain": [
              "<Figure size 900x600 with 1 Axes>"
            ]
          },
          "metadata": {
            "tags": [],
            "needs_background": "light"
          }
        },
        {
          "output_type": "display_data",
          "data": {
            "image/png": "[encoded data removed]",
            "text/plain": [
              "<Figure size 900x600 with 1 Axes>"
            ]
          },
          "metadata": {
            "tags": [],
            "needs_background": "light"
          }
        },
        {
          "output_type": "display_data",
          "data": {
            "image/png": "[encoded data removed]",
            "text/plain": [
              "<Figure size 900x600 with 1 Axes>"
            ]
          },
          "metadata": {
            "tags": [],
            "needs_background": "light"
          }
        },
        {
          "output_type": "display_data",
          "data": {
            "image/png": "[encoded data removed]",
            "text/plain": [
              "<Figure size 900x600 with 1 Axes>"
            ]
          },
          "metadata": {
            "tags": [],
            "needs_background": "light"
          }
        },
        {
          "output_type": "display_data",
          "data": {
            "image/png": "[encoded data removed]",
            "text/plain": [
              "<Figure size 900x600 with 1 Axes>"
            ]
          },
          "metadata": {
            "tags": [],
            "needs_background": "light"
          }
        },
        {
          "output_type": "display_data",
          "data": {
            "image/png": "[encoded data removed]",
            "text/plain": [
              "<Figure size 900x600 with 1 Axes>"
            ]
          },
          "metadata": {
            "tags": [],
            "needs_background": "light"
          }
        },
        {
          "output_type": "display_data",
          "data": {
            "image/png": "[encoded data removed]",
            "text/plain": [
              "<Figure size 900x600 with 1 Axes>"
            ]
          },
          "metadata": {
            "tags": [],
            "needs_background": "light"
          }
        },
        {
          "output_type": "display_data",
          "data": {
            "image/png": "[encoded data removed]",
            "text/plain": [
              "<Figure size 900x600 with 1 Axes>"
            ]
          },
          "metadata": {
            "tags": [],
            "needs_background": "light"
          }
        },
        {
          "output_type": "display_data",
          "data": {
            "image/png": "[encoded data removed]",
            "text/plain": [
              "<Figure size 900x600 with 1 Axes>"
            ]
          },
          "metadata": {
            "tags": [],
            "needs_background": "light"
          }
        },
        {
          "output_type": "display_data",
          "data": {
            "image/png": "[encoded data removed]",
            "text/plain": [
              "<Figure size 900x600 with 1 Axes>"
            ]
          },
          "metadata": {
            "tags": [],
            "needs_background": "light"
          }
        },
        {
          "output_type": "display_data",
          "data": {
            "image/png": "[encoded data removed]",
            "text/plain": [
              "<Figure size 900x600 with 1 Axes>"
            ]
          },
          "metadata": {
            "tags": [],
            "needs_background": "light"
          }
        }
      ]
    },
    {
      "cell_type": "code",
      "metadata": {
        "id": "ywH075Wp7wep",
        "colab": {
          "base_uri": "https://localhost:8080/",
          "height": 1000
        },
        "outputId": "4a1f073d-f9f7-45f5-fd74-e2e7e468f5c6"
      },
      "source": [
        "for i in range(25):\n",
        "  %time SimpleTest(WAStar, i, DiagonalDistance, OpenList,YourClosed, True, 1.0)"
      ],
      "execution_count": 91,
      "outputs": [
        {
          "output_type": "stream",
          "text": [
            "Path found! Length: 39.31370849898476. Nodes created: 4055. Number of steps: 3920. Correct: True\n",
            "CPU times: user 359 ms, sys: 1.96 ms, total: 361 ms\n",
            "Wall time: 364 ms\n",
            "Path found! Length: 31.313708498984763. Nodes created: 3160. Number of steps: 3072. Correct: True\n",
            "CPU times: user 291 ms, sys: 3 ms, total: 294 ms\n",
            "Wall time: 297 ms\n",
            "Path found! Length: 33.39949493661167. Nodes created: 4203. Number of steps: 4045. Correct: True\n",
            "CPU times: user 511 ms, sys: 4.96 ms, total: 516 ms\n",
            "Wall time: 518 ms\n",
            "Path found! Length: 21.72792206135786. Nodes created: 2439. Number of steps: 2186. Correct: True\n",
            "CPU times: user 254 ms, sys: 1.01 ms, total: 255 ms\n",
            "Wall time: 255 ms\n",
            "Path found! Length: 31.485281374238575. Nodes created: 3833. Number of steps: 3721. Correct: True\n",
            "CPU times: user 382 ms, sys: 3 ms, total: 385 ms\n",
            "Wall time: 385 ms\n",
            "Path found! Length: 27.656854249492383. Nodes created: 4657. Number of steps: 4391. Correct: True\n",
            "CPU times: user 602 ms, sys: 3.03 ms, total: 605 ms\n",
            "Wall time: 604 ms\n",
            "Path found! Length: 37.39949493661166. Nodes created: 5736. Number of steps: 5619. Correct: True\n",
            "CPU times: user 631 ms, sys: 2.99 ms, total: 634 ms\n",
            "Wall time: 633 ms\n",
            "Path found! Length: 30.72792206135786. Nodes created: 5557. Number of steps: 5419. Correct: True\n",
            "CPU times: user 728 ms, sys: 8 ms, total: 736 ms\n",
            "Wall time: 736 ms\n",
            "Path found! Length: 47.47056274847714. Nodes created: 5637. Number of steps: 5507. Correct: True\n",
            "CPU times: user 532 ms, sys: 2.96 ms, total: 535 ms\n",
            "Wall time: 530 ms\n",
            "Path found! Length: 23.39949493661167. Nodes created: 3141. Number of steps: 2992. Correct: True\n",
            "CPU times: user 377 ms, sys: 2.99 ms, total: 380 ms\n",
            "Wall time: 388 ms\n",
            "Path found! Length: 42.89949493661167. Nodes created: 5822. Number of steps: 5739. Correct: True\n",
            "CPU times: user 578 ms, sys: 0 ns, total: 578 ms\n",
            "Wall time: 584 ms\n",
            "Path found! Length: 43.39949493661166. Nodes created: 5760. Number of steps: 5652. Correct: True\n",
            "CPU times: user 579 ms, sys: 1.97 ms, total: 581 ms\n",
            "Wall time: 581 ms\n",
            "Path found! Length: 28.414213562373096. Nodes created: 5281. Number of steps: 5124. Correct: True\n",
            "CPU times: user 704 ms, sys: 0 ns, total: 704 ms\n",
            "Wall time: 709 ms\n",
            "Path found! Length: 26.89949493661167. Nodes created: 3790. Number of steps: 3654. Correct: True\n",
            "CPU times: user 416 ms, sys: 1.99 ms, total: 418 ms\n",
            "Wall time: 421 ms\n",
            "Path found! Length: 36.97056274847715. Nodes created: 5363. Number of steps: 5215. Correct: True\n",
            "CPU times: user 583 ms, sys: 905 µs, total: 584 ms\n",
            "Wall time: 589 ms\n",
            "Path found! Length: 36.38477631085024. Nodes created: 5409. Number of steps: 5266. Correct: True\n",
            "CPU times: user 567 ms, sys: 4.99 ms, total: 572 ms\n",
            "Wall time: 577 ms\n",
            "Path found! Length: 45.970562748477136. Nodes created: 5744. Number of steps: 5642. Correct: True\n",
            "CPU times: user 534 ms, sys: 998 µs, total: 535 ms\n",
            "Wall time: 538 ms\n",
            "Path found! Length: 30.82842712474619. Nodes created: 4171. Number of steps: 4032. Correct: True\n",
            "CPU times: user 437 ms, sys: 997 µs, total: 438 ms\n",
            "Wall time: 438 ms\n",
            "Path found! Length: 46.79898987322332. Nodes created: 5990. Number of steps: 5895. Correct: True\n",
            "CPU times: user 579 ms, sys: 998 µs, total: 580 ms\n",
            "Wall time: 584 ms\n",
            "Path found! Length: 38.72792206135786. Nodes created: 5748. Number of steps: 5636. Correct: True\n",
            "CPU times: user 614 ms, sys: 5 ms, total: 619 ms\n",
            "Wall time: 622 ms\n"
          ],
          "name": "stdout"
        },
        {
          "output_type": "stream",
          "text": [
            "/usr/local/lib/python3.7/dist-packages/ipykernel_launcher.py:42: RuntimeWarning: More than 20 figures have been opened. Figures created through the pyplot interface (`matplotlib.pyplot.figure`) are retained until explicitly closed and may consume too much memory. (To control this warning, see the rcParam `figure.max_open_warning`).\n"
          ],
          "name": "stderr"
        },
        {
          "output_type": "stream",
          "text": [
            "Path found! Length: 36.627416997969526. Nodes created: 4891. Number of steps: 4678. Correct: True\n",
            "CPU times: user 483 ms, sys: 1.01 ms, total: 484 ms\n",
            "Wall time: 489 ms\n"
          ],
          "name": "stdout"
        },
        {
          "output_type": "stream",
          "text": [
            "/usr/local/lib/python3.7/dist-packages/ipykernel_launcher.py:42: RuntimeWarning: More than 20 figures have been opened. Figures created through the pyplot interface (`matplotlib.pyplot.figure`) are retained until explicitly closed and may consume too much memory. (To control this warning, see the rcParam `figure.max_open_warning`).\n"
          ],
          "name": "stderr"
        },
        {
          "output_type": "stream",
          "text": [
            "Path found! Length: 30.89949493661167. Nodes created: 3928. Number of steps: 3814. Correct: True\n",
            "CPU times: user 412 ms, sys: 0 ns, total: 412 ms\n",
            "Wall time: 414 ms\n"
          ],
          "name": "stdout"
        },
        {
          "output_type": "stream",
          "text": [
            "/usr/local/lib/python3.7/dist-packages/ipykernel_launcher.py:42: RuntimeWarning: More than 20 figures have been opened. Figures created through the pyplot interface (`matplotlib.pyplot.figure`) are retained until explicitly closed and may consume too much memory. (To control this warning, see the rcParam `figure.max_open_warning`).\n"
          ],
          "name": "stderr"
        },
        {
          "output_type": "stream",
          "text": [
            "Path found! Length: 33.97056274847715. Nodes created: 5162. Number of steps: 4966. Correct: True\n",
            "CPU times: user 562 ms, sys: 2.92 ms, total: 565 ms\n",
            "Wall time: 565 ms\n"
          ],
          "name": "stdout"
        },
        {
          "output_type": "stream",
          "text": [
            "/usr/local/lib/python3.7/dist-packages/ipykernel_launcher.py:42: RuntimeWarning: More than 20 figures have been opened. Figures created through the pyplot interface (`matplotlib.pyplot.figure`) are retained until explicitly closed and may consume too much memory. (To control this warning, see the rcParam `figure.max_open_warning`).\n"
          ],
          "name": "stderr"
        },
        {
          "output_type": "stream",
          "text": [
            "Path found! Length: 45.970562748477136. Nodes created: 5778. Number of steps: 5683. Correct: True\n",
            "CPU times: user 538 ms, sys: 5 ms, total: 543 ms\n",
            "Wall time: 545 ms\n"
          ],
          "name": "stdout"
        },
        {
          "output_type": "stream",
          "text": [
            "/usr/local/lib/python3.7/dist-packages/ipykernel_launcher.py:42: RuntimeWarning: More than 20 figures have been opened. Figures created through the pyplot interface (`matplotlib.pyplot.figure`) are retained until explicitly closed and may consume too much memory. (To control this warning, see the rcParam `figure.max_open_warning`).\n"
          ],
          "name": "stderr"
        },
        {
          "output_type": "stream",
          "text": [
            "Path found! Length: 47.79898987322333. Nodes created: 5870. Number of steps: 5776. Correct: True\n",
            "CPU times: user 572 ms, sys: 3.02 ms, total: 575 ms\n",
            "Wall time: 576 ms\n"
          ],
          "name": "stdout"
        },
        {
          "output_type": "display_data",
          "data": {
            "image/png": "[encoded data removed]",
            "text/plain": [
              "<Figure size 900x600 with 1 Axes>"
            ]
          },
          "metadata": {
            "tags": [],
            "needs_background": "light"
          }
        },
        {
          "output_type": "display_data",
          "data": {
            "image/png": "[encoded data removed]",
            "text/plain": [
              "<Figure size 900x600 with 1 Axes>"
            ]
          },
          "metadata": {
            "tags": [],
            "needs_background": "light"
          }
        },
        {
          "output_type": "display_data",
          "data": {
            "image/png": "[encoded data removed]",
            "text/plain": [
              "<Figure size 900x600 with 1 Axes>"
            ]
          },
          "metadata": {
            "tags": [],
            "needs_background": "light"
          }
        },
        {
          "output_type": "display_data",
          "data": {
            "image/png": "[encoded data removed]",
            "text/plain": [
              "<Figure size 900x600 with 1 Axes>"
            ]
          },
          "metadata": {
            "tags": [],
            "needs_background": "light"
          }
        },
        {
          "output_type": "display_data",
          "data": {
            "image/png": "[encoded data removed]",
            "text/plain": [
              "<Figure size 900x600 with 1 Axes>"
            ]
          },
          "metadata": {
            "tags": [],
            "needs_background": "light"
          }
        },
        {
          "output_type": "display_data",
          "data": {
            "image/png": "[encoded data removed]",
            "text/plain": [
              "<Figure size 900x600 with 1 Axes>"
            ]
          },
          "metadata": {
            "tags": [],
            "needs_background": "light"
          }
        },
        {
          "output_type": "display_data",
          "data": {
            "image/png": "[encoded data removed]",
            "text/plain": [
              "<Figure size 900x600 with 1 Axes>"
            ]
          },
          "metadata": {
            "tags": [],
            "needs_background": "light"
          }
        },
        {
          "output_type": "display_data",
          "data": {
            "image/png": "[encoded data removed]",
            "text/plain": [
              "<Figure size 900x600 with 1 Axes>"
            ]
          },
          "metadata": {
            "tags": [],
            "needs_background": "light"
          }
        },
        {
          "output_type": "display_data",
          "data": {
            "image/png": "[encoded data removed]",
            "text/plain": [
              "<Figure size 900x600 with 1 Axes>"
            ]
          },
          "metadata": {
            "tags": [],
            "needs_background": "light"
          }
        },
        {
          "output_type": "display_data",
          "data": {
            "image/png": "[encoded data removed]",
            "text/plain": [
              "<Figure size 900x600 with 1 Axes>"
            ]
          },
          "metadata": {
            "tags": [],
            "needs_background": "light"
          }
        },
        {
          "output_type": "display_data",
          "data": {
            "image/png": "[encoded data removed]",
            "text/plain": [
              "<Figure size 900x600 with 1 Axes>"
            ]
          },
          "metadata": {
            "tags": [],
            "needs_background": "light"
          }
        },
        {
          "output_type": "display_data",
          "data": {
            "image/png": "[encoded data removed]",
            "text/plain": [
              "<Figure size 900x600 with 1 Axes>"
            ]
          },
          "metadata": {
            "tags": [],
            "needs_background": "light"
          }
        },
        {
          "output_type": "display_data",
          "data": {
            "image/png": "[encoded data removed]",
            "text/plain": [
              "<Figure size 900x600 with 1 Axes>"
            ]
          },
          "metadata": {
            "tags": [],
            "needs_background": "light"
          }
        },
        {
          "output_type": "display_data",
          "data": {
            "image/png": "[encoded data removed]",
            "text/plain": [
              "<Figure size 900x600 with 1 Axes>"
            ]
          },
          "metadata": {
            "tags": [],
            "needs_background": "light"
          }
        },
        {
          "output_type": "display_data",
          "data": {
            "image/png": "[encoded data removed]",
            "text/plain": [
              "<Figure size 900x600 with 1 Axes>"
            ]
          },
          "metadata": {
            "tags": [],
            "needs_background": "light"
          }
        },
        {
          "output_type": "display_data",
          "data": {
            "image/png": "[encoded data removed]",
            "text/plain": [
              "<Figure size 900x600 with 1 Axes>"
            ]
          },
          "metadata": {
            "tags": [],
            "needs_background": "light"
          }
        },
        {
          "output_type": "display_data",
          "data": {
            "image/png": "[encoded data removed]",
            "text/plain": [
              "<Figure size 900x600 with 1 Axes>"
            ]
          },
          "metadata": {
            "tags": [],
            "needs_background": "light"
          }
        },
        {
          "output_type": "display_data",
          "data": {
            "image/png": "[encoded data removed]",
            "text/plain": [
              "<Figure size 900x600 with 1 Axes>"
            ]
          },
          "metadata": {
            "tags": [],
            "needs_background": "light"
          }
        },
        {
          "output_type": "display_data",
          "data": {
            "image/png": "[encoded data removed]",
            "text/plain": [
              "<Figure size 900x600 with 1 Axes>"
            ]
          },
          "metadata": {
            "tags": [],
            "needs_background": "light"
          }
        },
        {
          "output_type": "display_data",
          "data": {
            "image/png": "[encoded data removed]",
            "text/plain": [
              "<Figure size 900x600 with 1 Axes>"
            ]
          },
          "metadata": {
            "tags": [],
            "needs_background": "light"
          }
        },
        {
          "output_type": "display_data",
          "data": {
            "image/png": "[encoded data removed]",
            "text/plain": [
              "<Figure size 900x600 with 1 Axes>"
            ]
          },
          "metadata": {
            "tags": [],
            "needs_background": "light"
          }
        },
        {
          "output_type": "display_data",
          "data": {
            "image/png": "[encoded data removed]",
            "text/plain": [
              "<Figure size 900x600 with 1 Axes>"
            ]
          },
          "metadata": {
            "tags": [],
            "needs_background": "light"
          }
        },
        {
          "output_type": "display_data",
          "data": {
            "image/png": "[encoded data removed]",
            "text/plain": [
              "<Figure size 900x600 with 1 Axes>"
            ]
          },
          "metadata": {
            "tags": [],
            "needs_background": "light"
          }
        },
        {
          "output_type": "display_data",
          "data": {
            "image/png": "[encoded data removed]",
            "text/plain": [
              "<Figure size 900x600 with 1 Axes>"
            ]
          },
          "metadata": {
            "tags": [],
            "needs_background": "light"
          }
        },
        {
          "output_type": "display_data",
          "data": {
            "image/png": "[encoded data removed]",
            "text/plain": [
              "<Figure size 900x600 with 1 Axes>"
            ]
          },
          "metadata": {
            "tags": [],
            "needs_background": "light"
          }
        }
      ]
    },
    {
      "cell_type": "code",
      "metadata": {
        "id": "sy4ammBP7weq",
        "colab": {
          "base_uri": "https://localhost:8080/",
          "height": 1000
        },
        "outputId": "46d42102-57a0-4e8d-d575-89d896340e4e"
      },
      "source": [
        "for i in range(25):\n",
        "  %time SimpleTest(WAStar, i, DiagonalDistance, OpenList,YourClosed, True, 1.1)"
      ],
      "execution_count": 92,
      "outputs": [
        {
          "output_type": "stream",
          "text": [
            "Path found! Length: 39.31370849898476. Nodes created: 4017. Number of steps: 3884. Correct: True\n",
            "CPU times: user 363 ms, sys: 4.01 ms, total: 367 ms\n",
            "Wall time: 368 ms\n",
            "Path found! Length: 31.313708498984763. Nodes created: 3128. Number of steps: 3059. Correct: True\n",
            "CPU times: user 289 ms, sys: 967 µs, total: 290 ms\n",
            "Wall time: 291 ms\n",
            "Path found! Length: 33.39949493661167. Nodes created: 4167. Number of steps: 4005. Correct: True\n",
            "CPU times: user 446 ms, sys: 3.05 ms, total: 449 ms\n",
            "Wall time: 452 ms\n",
            "Path found! Length: 21.72792206135786. Nodes created: 2368. Number of steps: 2115. Correct: True\n",
            "CPU times: user 252 ms, sys: 2.02 ms, total: 254 ms\n",
            "Wall time: 255 ms\n",
            "Path found! Length: 31.485281374238575. Nodes created: 3804. Number of steps: 3684. Correct: True\n",
            "CPU times: user 403 ms, sys: 3.01 ms, total: 406 ms\n",
            "Wall time: 407 ms\n",
            "Path found! Length: 27.656854249492383. Nodes created: 4522. Number of steps: 4276. Correct: True\n",
            "CPU times: user 590 ms, sys: 5.01 ms, total: 595 ms\n",
            "Wall time: 595 ms\n",
            "Path found! Length: 37.39949493661166. Nodes created: 5709. Number of steps: 5594. Correct: True\n",
            "CPU times: user 623 ms, sys: 3 ms, total: 626 ms\n",
            "Wall time: 628 ms\n",
            "Path found! Length: 30.72792206135786. Nodes created: 5503. Number of steps: 5355. Correct: True\n",
            "CPU times: user 710 ms, sys: 2.02 ms, total: 712 ms\n",
            "Wall time: 713 ms\n",
            "Path found! Length: 47.47056274847714. Nodes created: 5594. Number of steps: 5466. Correct: True\n",
            "CPU times: user 530 ms, sys: 4.02 ms, total: 534 ms\n",
            "Wall time: 537 ms\n",
            "Path found! Length: 23.39949493661167. Nodes created: 3090. Number of steps: 2934. Correct: True\n",
            "CPU times: user 339 ms, sys: 0 ns, total: 339 ms\n",
            "Wall time: 343 ms\n",
            "Path found! Length: 42.89949493661167. Nodes created: 5796. Number of steps: 5700. Correct: True\n",
            "CPU times: user 555 ms, sys: 1.96 ms, total: 557 ms\n",
            "Wall time: 563 ms\n",
            "Path found! Length: 43.39949493661166. Nodes created: 5739. Number of steps: 5628. Correct: True\n",
            "CPU times: user 590 ms, sys: 0 ns, total: 590 ms\n",
            "Wall time: 593 ms\n",
            "Path found! Length: 28.414213562373096. Nodes created: 5207. Number of steps: 5038. Correct: True\n",
            "CPU times: user 690 ms, sys: 2.99 ms, total: 693 ms\n",
            "Wall time: 697 ms\n",
            "Path found! Length: 26.89949493661167. Nodes created: 3745. Number of steps: 3610. Correct: True\n",
            "CPU times: user 412 ms, sys: 1.99 ms, total: 414 ms\n",
            "Wall time: 414 ms\n",
            "Path found! Length: 36.97056274847715. Nodes created: 5321. Number of steps: 5160. Correct: True\n",
            "CPU times: user 582 ms, sys: 4.99 ms, total: 587 ms\n",
            "Wall time: 590 ms\n",
            "Path found! Length: 36.38477631085024. Nodes created: 5360. Number of steps: 5223. Correct: True\n",
            "CPU times: user 574 ms, sys: 2.99 ms, total: 577 ms\n",
            "Wall time: 583 ms\n",
            "Path found! Length: 45.970562748477136. Nodes created: 5718. Number of steps: 5603. Correct: True\n",
            "CPU times: user 527 ms, sys: 998 µs, total: 528 ms\n",
            "Wall time: 530 ms\n",
            "Path found! Length: 30.82842712474619. Nodes created: 4136. Number of steps: 4008. Correct: True\n",
            "CPU times: user 442 ms, sys: 2 ms, total: 444 ms\n",
            "Wall time: 445 ms\n",
            "Path found! Length: 46.79898987322332. Nodes created: 5967. Number of steps: 5874. Correct: True\n",
            "CPU times: user 577 ms, sys: 1.99 ms, total: 579 ms\n",
            "Wall time: 581 ms\n",
            "Path found! Length: 38.72792206135786. Nodes created: 5716. Number of steps: 5595. Correct: True\n",
            "CPU times: user 630 ms, sys: 5.01 ms, total: 635 ms\n",
            "Wall time: 637 ms\n"
          ],
          "name": "stdout"
        },
        {
          "output_type": "stream",
          "text": [
            "/usr/local/lib/python3.7/dist-packages/ipykernel_launcher.py:42: RuntimeWarning: More than 20 figures have been opened. Figures created through the pyplot interface (`matplotlib.pyplot.figure`) are retained until explicitly closed and may consume too much memory. (To control this warning, see the rcParam `figure.max_open_warning`).\n"
          ],
          "name": "stderr"
        },
        {
          "output_type": "stream",
          "text": [
            "Path found! Length: 36.627416997969526. Nodes created: 4832. Number of steps: 4621. Correct: True\n",
            "CPU times: user 461 ms, sys: 1.99 ms, total: 463 ms\n",
            "Wall time: 463 ms\n"
          ],
          "name": "stdout"
        },
        {
          "output_type": "stream",
          "text": [
            "/usr/local/lib/python3.7/dist-packages/ipykernel_launcher.py:42: RuntimeWarning: More than 20 figures have been opened. Figures created through the pyplot interface (`matplotlib.pyplot.figure`) are retained until explicitly closed and may consume too much memory. (To control this warning, see the rcParam `figure.max_open_warning`).\n"
          ],
          "name": "stderr"
        },
        {
          "output_type": "stream",
          "text": [
            "Path found! Length: 30.89949493661167. Nodes created: 3904. Number of steps: 3789. Correct: True\n",
            "CPU times: user 414 ms, sys: 5.02 ms, total: 419 ms\n",
            "Wall time: 420 ms\n"
          ],
          "name": "stdout"
        },
        {
          "output_type": "stream",
          "text": [
            "/usr/local/lib/python3.7/dist-packages/ipykernel_launcher.py:42: RuntimeWarning: More than 20 figures have been opened. Figures created through the pyplot interface (`matplotlib.pyplot.figure`) are retained until explicitly closed and may consume too much memory. (To control this warning, see the rcParam `figure.max_open_warning`).\n"
          ],
          "name": "stderr"
        },
        {
          "output_type": "stream",
          "text": [
            "Path found! Length: 33.97056274847715. Nodes created: 5102. Number of steps: 4902. Correct: True\n",
            "CPU times: user 550 ms, sys: 4.04 ms, total: 554 ms\n",
            "Wall time: 554 ms\n"
          ],
          "name": "stdout"
        },
        {
          "output_type": "stream",
          "text": [
            "/usr/local/lib/python3.7/dist-packages/ipykernel_launcher.py:42: RuntimeWarning: More than 20 figures have been opened. Figures created through the pyplot interface (`matplotlib.pyplot.figure`) are retained until explicitly closed and may consume too much memory. (To control this warning, see the rcParam `figure.max_open_warning`).\n"
          ],
          "name": "stderr"
        },
        {
          "output_type": "stream",
          "text": [
            "Path found! Length: 45.970562748477136. Nodes created: 5757. Number of steps: 5655. Correct: True\n",
            "CPU times: user 562 ms, sys: 6.96 ms, total: 569 ms\n",
            "Wall time: 571 ms\n"
          ],
          "name": "stdout"
        },
        {
          "output_type": "stream",
          "text": [
            "/usr/local/lib/python3.7/dist-packages/ipykernel_launcher.py:42: RuntimeWarning: More than 20 figures have been opened. Figures created through the pyplot interface (`matplotlib.pyplot.figure`) are retained until explicitly closed and may consume too much memory. (To control this warning, see the rcParam `figure.max_open_warning`).\n"
          ],
          "name": "stderr"
        },
        {
          "output_type": "stream",
          "text": [
            "Path found! Length: 47.79898987322333. Nodes created: 5843. Number of steps: 5746. Correct: True\n",
            "CPU times: user 566 ms, sys: 995 µs, total: 567 ms\n",
            "Wall time: 566 ms\n"
          ],
          "name": "stdout"
        },
        {
          "output_type": "display_data",
          "data": {
            "image/png": "[encoded data removed]",
            "text/plain": [
              "<Figure size 900x600 with 1 Axes>"
            ]
          },
          "metadata": {
            "tags": [],
            "needs_background": "light"
          }
        },
        {
          "output_type": "display_data",
          "data": {
            "image/png": "[encoded data removed]",
            "text/plain": [
              "<Figure size 900x600 with 1 Axes>"
            ]
          },
          "metadata": {
            "tags": [],
            "needs_background": "light"
          }
        },
        {
          "output_type": "display_data",
          "data": {
            "image/png": "[encoded data removed]",
            "text/plain": [
              "<Figure size 900x600 with 1 Axes>"
            ]
          },
          "metadata": {
            "tags": [],
            "needs_background": "light"
          }
        },
        {
          "output_type": "display_data",
          "data": {
            "image/png": "[encoded data removed]",
            "text/plain": [
              "<Figure size 900x600 with 1 Axes>"
            ]
          },
          "metadata": {
            "tags": [],
            "needs_background": "light"
          }
        },
        {
          "output_type": "display_data",
          "data": {
            "image/png": "[encoded data removed]",
            "text/plain": [
              "<Figure size 900x600 with 1 Axes>"
            ]
          },
          "metadata": {
            "tags": [],
            "needs_background": "light"
          }
        },
        {
          "output_type": "display_data",
          "data": {
            "image/png": "[encoded data removed]",
            "text/plain": [
              "<Figure size 900x600 with 1 Axes>"
            ]
          },
          "metadata": {
            "tags": [],
            "needs_background": "light"
          }
        },
        {
          "output_type": "display_data",
          "data": {
            "image/png": "[encoded data removed]",
            "text/plain": [
              "<Figure size 900x600 with 1 Axes>"
            ]
          },
          "metadata": {
            "tags": [],
            "needs_background": "light"
          }
        },
        {
          "output_type": "display_data",
          "data": {
            "image/png": "[encoded data removed]",
            "text/plain": [
              "<Figure size 900x600 with 1 Axes>"
            ]
          },
          "metadata": {
            "tags": [],
            "needs_background": "light"
          }
        },
        {
          "output_type": "display_data",
          "data": {
            "image/png": "[encoded data removed]",
            "text/plain": [
              "<Figure size 900x600 with 1 Axes>"
            ]
          },
          "metadata": {
            "tags": [],
            "needs_background": "light"
          }
        },
        {
          "output_type": "display_data",
          "data": {
            "image/png": "[encoded data removed]",
            "text/plain": [
              "<Figure size 900x600 with 1 Axes>"
            ]
          },
          "metadata": {
            "tags": [],
            "needs_background": "light"
          }
        },
        {
          "output_type": "display_data",
          "data": {
            "image/png": "[encoded data removed]",
            "text/plain": [
              "<Figure size 900x600 with 1 Axes>"
            ]
          },
          "metadata": {
            "tags": [],
            "needs_background": "light"
          }
        },
        {
          "output_type": "display_data",
          "data": {
            "image/png": "[encoded data removed]",
            "text/plain": [
              "<Figure size 900x600 with 1 Axes>"
            ]
          },
          "metadata": {
            "tags": [],
            "needs_background": "light"
          }
        },
        {
          "output_type": "display_data",
          "data": {
            "image/png": "[encoded data removed]",
            "text/plain": [
              "<Figure size 900x600 with 1 Axes>"
            ]
          },
          "metadata": {
            "tags": [],
            "needs_background": "light"
          }
        },
        {
          "output_type": "display_data",
          "data": {
            "image/png": "[encoded data removed]",
            "text/plain": [
              "<Figure size 900x600 with 1 Axes>"
            ]
          },
          "metadata": {
            "tags": [],
            "needs_background": "light"
          }
        },
        {
          "output_type": "display_data",
          "data": {
            "image/png": "[encoded data removed]",
            "text/plain": [
              "<Figure size 900x600 with 1 Axes>"
            ]
          },
          "metadata": {
            "tags": [],
            "needs_background": "light"
          }
        },
        {
          "output_type": "display_data",
          "data": {
            "image/png": "[encoded data removed]",
            "text/plain": [
              "<Figure size 900x600 with 1 Axes>"
            ]
          },
          "metadata": {
            "tags": [],
            "needs_background": "light"
          }
        },
        {
          "output_type": "display_data",
          "data": {
            "image/png": "[encoded data removed]",
            "text/plain": [
              "<Figure size 900x600 with 1 Axes>"
            ]
          },
          "metadata": {
            "tags": [],
            "needs_background": "light"
          }
        },
        {
          "output_type": "display_data",
          "data": {
            "image/png": "[encoded data removed]",
            "text/plain": [
              "<Figure size 900x600 with 1 Axes>"
            ]
          },
          "metadata": {
            "tags": [],
            "needs_background": "light"
          }
        },
        {
          "output_type": "display_data",
          "data": {
            "image/png": "[encoded data removed]",
            "text/plain": [
              "<Figure size 900x600 with 1 Axes>"
            ]
          },
          "metadata": {
            "tags": [],
            "needs_background": "light"
          }
        },
        {
          "output_type": "display_data",
          "data": {
            "image/png": "[encoded data removed]",
            "text/plain": [
              "<Figure size 900x600 with 1 Axes>"
            ]
          },
          "metadata": {
            "tags": [],
            "needs_background": "light"
          }
        },
        {
          "output_type": "display_data",
          "data": {
            "image/png": "[encoded data removed]",
            "text/plain": [
              "<Figure size 900x600 with 1 Axes>"
            ]
          },
          "metadata": {
            "tags": [],
            "needs_background": "light"
          }
        },
        {
          "output_type": "display_data",
          "data": {
            "image/png": "[encoded data removed]",
            "text/plain": [
              "<Figure size 900x600 with 1 Axes>"
            ]
          },
          "metadata": {
            "tags": [],
            "needs_background": "light"
          }
        },
        {
          "output_type": "display_data",
          "data": {
            "image/png": "[encoded data removed]",
            "text/plain": [
              "<Figure size 900x600 with 1 Axes>"
            ]
          },
          "metadata": {
            "tags": [],
            "needs_background": "light"
          }
        },
        {
          "output_type": "display_data",
          "data": {
            "image/png": "[encoded data removed]",
            "text/plain": [
              "<Figure size 900x600 with 1 Axes>"
            ]
          },
          "metadata": {
            "tags": [],
            "needs_background": "light"
          }
        },
        {
          "output_type": "display_data",
          "data": {
            "image/png": "[encoded data removed]",
            "text/plain": [
              "<Figure size 900x600 with 1 Axes>"
            ]
          },
          "metadata": {
            "tags": [],
            "needs_background": "light"
          }
        }
      ]
    },
    {
      "cell_type": "code",
      "metadata": {
        "id": "JW5acL8Q7weq",
        "colab": {
          "base_uri": "https://localhost:8080/",
          "height": 1000
        },
        "outputId": "637bf82d-c9aa-4b4b-cd00-9fab4b371172"
      },
      "source": [
        "for i in range(25):\n",
        "  %time SimpleTest(WAStar, i, DiagonalDistance, OpenList,YourClosed, True, 2.0)"
      ],
      "execution_count": 93,
      "outputs": [
        {
          "output_type": "stream",
          "text": [
            "Path found! Length: 39.31370849898476. Nodes created: 3824. Number of steps: 3682. Correct: True\n",
            "CPU times: user 360 ms, sys: 2.02 ms, total: 362 ms\n",
            "Wall time: 363 ms\n",
            "Path found! Length: 31.313708498984763. Nodes created: 3033. Number of steps: 2937. Correct: True\n",
            "CPU times: user 315 ms, sys: 3.98 ms, total: 319 ms\n",
            "Wall time: 321 ms\n",
            "Path found! Length: 33.39949493661167. Nodes created: 3897. Number of steps: 3747. Correct: True\n",
            "CPU times: user 422 ms, sys: 4.97 ms, total: 427 ms\n",
            "Wall time: 427 ms\n",
            "Path found! Length: 21.72792206135786. Nodes created: 1881. Number of steps: 1687. Correct: True\n",
            "CPU times: user 208 ms, sys: 1.99 ms, total: 210 ms\n",
            "Wall time: 210 ms\n",
            "Path found! Length: 31.485281374238575. Nodes created: 3612. Number of steps: 3434. Correct: True\n",
            "CPU times: user 423 ms, sys: 2.99 ms, total: 426 ms\n",
            "Wall time: 426 ms\n",
            "Path found! Length: 27.656854249492383. Nodes created: 3687. Number of steps: 3423. Correct: True\n",
            "CPU times: user 455 ms, sys: 1 ms, total: 456 ms\n",
            "Wall time: 456 ms\n",
            "Path found! Length: 37.39949493661166. Nodes created: 5420. Number of steps: 5231. Correct: True\n",
            "CPU times: user 617 ms, sys: 8 ms, total: 625 ms\n",
            "Wall time: 627 ms\n",
            "Path found! Length: 30.72792206135786. Nodes created: 4901. Number of steps: 4678. Correct: True\n",
            "CPU times: user 670 ms, sys: 4 ms, total: 674 ms\n",
            "Wall time: 677 ms\n",
            "Path found! Length: 47.47056274847714. Nodes created: 5295. Number of steps: 5089. Correct: True\n",
            "CPU times: user 503 ms, sys: 5.01 ms, total: 508 ms\n",
            "Wall time: 509 ms\n",
            "Path found! Length: 23.39949493661167. Nodes created: 2625. Number of steps: 2413. Correct: True\n",
            "CPU times: user 318 ms, sys: 3.02 ms, total: 321 ms\n",
            "Wall time: 318 ms\n",
            "Path found! Length: 42.89949493661167. Nodes created: 5595. Number of steps: 5461. Correct: True\n",
            "CPU times: user 576 ms, sys: 7 ms, total: 583 ms\n",
            "Wall time: 584 ms\n",
            "Path found! Length: 43.39949493661166. Nodes created: 5451. Number of steps: 5284. Correct: True\n",
            "CPU times: user 604 ms, sys: 1.99 ms, total: 606 ms\n",
            "Wall time: 606 ms\n",
            "Path found! Length: 28.414213562373096. Nodes created: 4524. Number of steps: 4272. Correct: True\n",
            "CPU times: user 603 ms, sys: 1.99 ms, total: 605 ms\n",
            "Wall time: 606 ms\n",
            "Path found! Length: 26.89949493661167. Nodes created: 3296. Number of steps: 3119. Correct: True\n",
            "CPU times: user 393 ms, sys: 1 ms, total: 394 ms\n",
            "Wall time: 393 ms\n",
            "Path found! Length: 36.97056274847715. Nodes created: 4940. Number of steps: 4693. Correct: True\n",
            "CPU times: user 574 ms, sys: 3.99 ms, total: 578 ms\n",
            "Wall time: 576 ms\n",
            "Path found! Length: 36.38477631085024. Nodes created: 5024. Number of steps: 4802. Correct: True\n",
            "CPU times: user 561 ms, sys: 1.02 ms, total: 562 ms\n",
            "Wall time: 566 ms\n",
            "Path found! Length: 45.970562748477136. Nodes created: 5432. Number of steps: 5215. Correct: True\n",
            "CPU times: user 516 ms, sys: 1.97 ms, total: 518 ms\n",
            "Wall time: 517 ms\n",
            "Path found! Length: 30.82842712474619. Nodes created: 3877. Number of steps: 3718. Correct: True\n",
            "CPU times: user 433 ms, sys: 2.99 ms, total: 436 ms\n",
            "Wall time: 439 ms\n",
            "Path found! Length: 46.79898987322332. Nodes created: 5781. Number of steps: 5662. Correct: True\n",
            "CPU times: user 596 ms, sys: 0 ns, total: 596 ms\n",
            "Wall time: 595 ms\n",
            "Path found! Length: 38.72792206135786. Nodes created: 5392. Number of steps: 5187. Correct: True\n",
            "CPU times: user 621 ms, sys: 3.99 ms, total: 625 ms\n",
            "Wall time: 625 ms\n"
          ],
          "name": "stdout"
        },
        {
          "output_type": "stream",
          "text": [
            "/usr/local/lib/python3.7/dist-packages/ipykernel_launcher.py:42: RuntimeWarning: More than 20 figures have been opened. Figures created through the pyplot interface (`matplotlib.pyplot.figure`) are retained until explicitly closed and may consume too much memory. (To control this warning, see the rcParam `figure.max_open_warning`).\n"
          ],
          "name": "stderr"
        },
        {
          "output_type": "stream",
          "text": [
            "Path found! Length: 36.627416997969526. Nodes created: 4425. Number of steps: 4227. Correct: True\n",
            "CPU times: user 435 ms, sys: 1.01 ms, total: 436 ms\n",
            "Wall time: 434 ms\n"
          ],
          "name": "stdout"
        },
        {
          "output_type": "stream",
          "text": [
            "/usr/local/lib/python3.7/dist-packages/ipykernel_launcher.py:42: RuntimeWarning: More than 20 figures have been opened. Figures created through the pyplot interface (`matplotlib.pyplot.figure`) are retained until explicitly closed and may consume too much memory. (To control this warning, see the rcParam `figure.max_open_warning`).\n"
          ],
          "name": "stderr"
        },
        {
          "output_type": "stream",
          "text": [
            "Path found! Length: 30.89949493661167. Nodes created: 3691. Number of steps: 3482. Correct: True\n",
            "CPU times: user 436 ms, sys: 2.99 ms, total: 439 ms\n",
            "Wall time: 438 ms\n"
          ],
          "name": "stdout"
        },
        {
          "output_type": "stream",
          "text": [
            "/usr/local/lib/python3.7/dist-packages/ipykernel_launcher.py:42: RuntimeWarning: More than 20 figures have been opened. Figures created through the pyplot interface (`matplotlib.pyplot.figure`) are retained until explicitly closed and may consume too much memory. (To control this warning, see the rcParam `figure.max_open_warning`).\n"
          ],
          "name": "stderr"
        },
        {
          "output_type": "stream",
          "text": [
            "Path found! Length: 33.97056274847715. Nodes created: 4685. Number of steps: 4440. Correct: True\n",
            "CPU times: user 522 ms, sys: 1.02 ms, total: 523 ms\n",
            "Wall time: 520 ms\n"
          ],
          "name": "stdout"
        },
        {
          "output_type": "stream",
          "text": [
            "/usr/local/lib/python3.7/dist-packages/ipykernel_launcher.py:42: RuntimeWarning: More than 20 figures have been opened. Figures created through the pyplot interface (`matplotlib.pyplot.figure`) are retained until explicitly closed and may consume too much memory. (To control this warning, see the rcParam `figure.max_open_warning`).\n"
          ],
          "name": "stderr"
        },
        {
          "output_type": "stream",
          "text": [
            "Path found! Length: 45.970562748477136. Nodes created: 5493. Number of steps: 5293. Correct: True\n",
            "CPU times: user 554 ms, sys: 4 ms, total: 558 ms\n",
            "Wall time: 557 ms\n"
          ],
          "name": "stdout"
        },
        {
          "output_type": "stream",
          "text": [
            "/usr/local/lib/python3.7/dist-packages/ipykernel_launcher.py:42: RuntimeWarning: More than 20 figures have been opened. Figures created through the pyplot interface (`matplotlib.pyplot.figure`) are retained until explicitly closed and may consume too much memory. (To control this warning, see the rcParam `figure.max_open_warning`).\n"
          ],
          "name": "stderr"
        },
        {
          "output_type": "stream",
          "text": [
            "Path found! Length: 47.79898987322333. Nodes created: 5621. Number of steps: 5452. Correct: True\n",
            "CPU times: user 563 ms, sys: 2 ms, total: 565 ms\n",
            "Wall time: 566 ms\n"
          ],
          "name": "stdout"
        },
        {
          "output_type": "display_data",
          "data": {
            "image/png": "[encoded data removed]",
            "text/plain": [
              "<Figure size 900x600 with 1 Axes>"
            ]
          },
          "metadata": {
            "tags": [],
            "needs_background": "light"
          }
        },
        {
          "output_type": "display_data",
          "data": {
            "image/png": "[encoded data removed]",
            "text/plain": [
              "<Figure size 900x600 with 1 Axes>"
            ]
          },
          "metadata": {
            "tags": [],
            "needs_background": "light"
          }
        },
        {
          "output_type": "display_data",
          "data": {
            "image/png": "[encoded data removed]",
            "text/plain": [
              "<Figure size 900x600 with 1 Axes>"
            ]
          },
          "metadata": {
            "tags": [],
            "needs_background": "light"
          }
        },
        {
          "output_type": "display_data",
          "data": {
            "image/png": "[encoded data removed]",
            "text/plain": [
              "<Figure size 900x600 with 1 Axes>"
            ]
          },
          "metadata": {
            "tags": [],
            "needs_background": "light"
          }
        },
        {
          "output_type": "display_data",
          "data": {
            "image/png": "[encoded data removed]",
            "text/plain": [
              "<Figure size 900x600 with 1 Axes>"
            ]
          },
          "metadata": {
            "tags": [],
            "needs_background": "light"
          }
        },
        {
          "output_type": "display_data",
          "data": {
            "image/png": "[encoded data removed]",
            "text/plain": [
              "<Figure size 900x600 with 1 Axes>"
            ]
          },
          "metadata": {
            "tags": [],
            "needs_background": "light"
          }
        },
        {
          "output_type": "display_data",
          "data": {
            "image/png": "[encoded data removed]",
            "text/plain": [
              "<Figure size 900x600 with 1 Axes>"
            ]
          },
          "metadata": {
            "tags": [],
            "needs_background": "light"
          }
        },
        {
          "output_type": "display_data",
          "data": {
            "image/png": "[encoded data removed]",
            "text/plain": [
              "<Figure size 900x600 with 1 Axes>"
            ]
          },
          "metadata": {
            "tags": [],
            "needs_background": "light"
          }
        },
        {
          "output_type": "display_data",
          "data": {
            "image/png": "[encoded data removed]",
            "text/plain": [
              "<Figure size 900x600 with 1 Axes>"
            ]
          },
          "metadata": {
            "tags": [],
            "needs_background": "light"
          }
        },
        {
          "output_type": "display_data",
          "data": {
            "image/png": "[encoded data removed]",
            "text/plain": [
              "<Figure size 900x600 with 1 Axes>"
            ]
          },
          "metadata": {
            "tags": [],
            "needs_background": "light"
          }
        },
        {
          "output_type": "display_data",
          "data": {
            "image/png": "[encoded data removed]",
            "text/plain": [
              "<Figure size 900x600 with 1 Axes>"
            ]
          },
          "metadata": {
            "tags": [],
            "needs_background": "light"
          }
        },
        {
          "output_type": "display_data",
          "data": {
            "image/png": "[encoded data removed]",
            "text/plain": [
              "<Figure size 900x600 with 1 Axes>"
            ]
          },
          "metadata": {
            "tags": [],
            "needs_background": "light"
          }
        },
        {
          "output_type": "display_data",
          "data": {
            "image/png": "[encoded data removed]",
            "text/plain": [
              "<Figure size 900x600 with 1 Axes>"
            ]
          },
          "metadata": {
            "tags": [],
            "needs_background": "light"
          }
        },
        {
          "output_type": "display_data",
          "data": {
            "image/png": "[encoded data removed]",
            "text/plain": [
              "<Figure size 900x600 with 1 Axes>"
            ]
          },
          "metadata": {
            "tags": [],
            "needs_background": "light"
          }
        },
        {
          "output_type": "display_data",
          "data": {
            "image/png": "[encoded data removed]",
            "text/plain": [
              "<Figure size 900x600 with 1 Axes>"
            ]
          },
          "metadata": {
            "tags": [],
            "needs_background": "light"
          }
        },
        {
          "output_type": "display_data",
          "data": {
            "image/png": "[encoded data removed]",
            "text/plain": [
              "<Figure size 900x600 with 1 Axes>"
            ]
          },
          "metadata": {
            "tags": [],
            "needs_background": "light"
          }
        },
        {
          "output_type": "display_data",
          "data": {
            "image/png": "[encoded data removed]",
            "text/plain": [
              "<Figure size 900x600 with 1 Axes>"
            ]
          },
          "metadata": {
            "tags": [],
            "needs_background": "light"
          }
        },
        {
          "output_type": "display_data",
          "data": {
            "image/png": "[encoded data removed]",
            "text/plain": [
              "<Figure size 900x600 with 1 Axes>"
            ]
          },
          "metadata": {
            "tags": [],
            "needs_background": "light"
          }
        },
        {
          "output_type": "display_data",
          "data": {
            "image/png": "[encoded data removed]",
            "text/plain": [
              "<Figure size 900x600 with 1 Axes>"
            ]
          },
          "metadata": {
            "tags": [],
            "needs_background": "light"
          }
        },
        {
          "output_type": "display_data",
          "data": {
            "image/png": "[encoded data removed]",
            "text/plain": [
              "<Figure size 900x600 with 1 Axes>"
            ]
          },
          "metadata": {
            "tags": [],
            "needs_background": "light"
          }
        },
        {
          "output_type": "display_data",
          "data": {
            "image/png": "[encoded data removed]",
            "text/plain": [
              "<Figure size 900x600 with 1 Axes>"
            ]
          },
          "metadata": {
            "tags": [],
            "needs_background": "light"
          }
        },
        {
          "output_type": "display_data",
          "data": {
            "image/png": "[encoded data removed]",
            "text/plain": [
              "<Figure size 900x600 with 1 Axes>"
            ]
          },
          "metadata": {
            "tags": [],
            "needs_background": "light"
          }
        },
        {
          "output_type": "display_data",
          "data": {
            "image/png": "[encoded data removed]",
            "text/plain": [
              "<Figure size 900x600 with 1 Axes>"
            ]
          },
          "metadata": {
            "tags": [],
            "needs_background": "light"
          }
        },
        {
          "output_type": "display_data",
          "data": {
            "image/png": "[encoded data removed]",
            "text/plain": [
              "<Figure size 900x600 with 1 Axes>"
            ]
          },
          "metadata": {
            "tags": [],
            "needs_background": "light"
          }
        },
        {
          "output_type": "display_data",
          "data": {
            "image/png": "[encoded data removed]",
            "text/plain": [
              "<Figure size 900x600 with 1 Axes>"
            ]
          },
          "metadata": {
            "tags": [],
            "needs_background": "light"
          }
        }
      ]
    },
    {
      "cell_type": "code",
      "metadata": {
        "id": "c2I2U0ai7wer",
        "colab": {
          "base_uri": "https://localhost:8080/"
        },
        "outputId": "04e3dad5-9b6a-4fdf-e9f4-8a4ee5ceac7d"
      },
      "source": [
        "#running massive test of optimal A* on 4-connected grids with Manhattan-distance heuristic\n",
        "%time astCardStat = MassiveTest(WAStar, ManhattanDistance, YourOpen,YourClosed, False, 1.0)"
      ],
      "execution_count": 94,
      "outputs": [
        {
          "output_type": "stream",
          "text": [
            "Path found! Length: 67.0. Nodes created: 4388. Number of steps: 1902. Correct: True\n",
            "Path found! Length: 214.0. Nodes created: 32017. Number of steps: 31165. Correct: True\n",
            "Path found! Length: 480.0. Nodes created: 203366. Number of steps: 192953. Correct: True\n",
            "Path found! Length: 568.0. Nodes created: 262175. Number of steps: 260825. Correct: True\n",
            "Path found! Length: 507.0. Nodes created: 234237. Number of steps: 231369. Correct: True\n",
            "Path found! Length: 418.0. Nodes created: 97283. Number of steps: 92763. Correct: True\n",
            "Path found! Length: 769.0. Nodes created: 666321. Number of steps: 664050. Correct: True\n",
            "Path found! Length: 702.0. Nodes created: 434638. Number of steps: 430702. Correct: True\n",
            "Path found! Length: 692.0. Nodes created: 414126. Number of steps: 380667. Correct: True\n",
            "CPU times: user 3min 56s, sys: 1.88 s, total: 3min 58s\n",
            "Wall time: 4min\n"
          ],
          "name": "stdout"
        }
      ]
    },
    {
      "cell_type": "code",
      "metadata": {
        "id": "xDnnMl6B7wer",
        "colab": {
          "base_uri": "https://localhost:8080/"
        },
        "outputId": "3285aa05-4712-4dd1-fa09-0a86b5a6fb59"
      },
      "source": [
        "#running massive test of optimal A* on 8-connected grids with Diagonal-distance heuristic\n",
        "%time astDiagStat = MassiveTest(WAStar, DiagonalDistance, YourOpen,YourClosed, True, 1.0)"
      ],
      "execution_count": 95,
      "outputs": [
        {
          "output_type": "stream",
          "text": [
            "Path found! Length: 52.183766184073555. Nodes created: 23844. Number of steps: 22918. Correct: True\n",
            "Path found! Length: 204.02691193458136. Nodes created: 118632. Number of steps: 118402. Correct: True\n",
            "Path found! Length: 376.94574285495037. Nodes created: 734158. Number of steps: 733997. Correct: True\n",
            "Path found! Length: 441.4163056034276. Nodes created: 710455. Number of steps: 710260. Correct: True\n",
            "Path found! Length: 373.04119728445545. Nodes created: 760367. Number of steps: 760187. Correct: True\n",
            "Path found! Length: 359.59292911256387. Nodes created: 450149. Number of steps: 449860. Correct: True\n",
            "Path found! Length: 591.1808075912456. Nodes created: 1819914. Number of steps: 1819169. Correct: True\n",
            "Path found! Length: 553.7396820942909. Nodes created: 1235660. Number of steps: 1234544. Correct: True\n",
            "Path found! Length: 599.2741699796965. Nodes created: 1535157. Number of steps: 1534771. Correct: True\n",
            "CPU times: user 11min 19s, sys: 4.32 s, total: 11min 23s\n",
            "Wall time: 11min 24s\n"
          ],
          "name": "stdout"
        }
      ]
    },
    {
      "cell_type": "code",
      "metadata": {
        "id": "hJQ-Kbay7wes",
        "colab": {
          "base_uri": "https://localhost:8080/"
        },
        "outputId": "1c4ae7b6-55c3-4de3-ae1b-1b023730ef2a"
      },
      "source": [
        "#running massive test of optimal A* on 8-connected grids with Euclidean-distance heuristic\n",
        "%time astEuclidStat = MassiveTest(WAStar, EuclideanDistance, YourOpen, YourClosed, True, 1.0)"
      ],
      "execution_count": 96,
      "outputs": [
        {
          "output_type": "stream",
          "text": [
            "Path found! Length: 52.183766184073555. Nodes created: 6795. Number of steps: 4804. Correct: True\n",
            "Path found! Length: 204.02691193458136. Nodes created: 89961. Number of steps: 88472. Correct: True\n",
            "Path found! Length: 376.94574285495037. Nodes created: 369379. Number of steps: 358054. Correct: True\n",
            "Path found! Length: 441.4163056034276. Nodes created: 451741. Number of steps: 448544. Correct: True\n",
            "Path found! Length: 373.04119728445545. Nodes created: 297492. Number of steps: 289641. Correct: True\n",
            "Path found! Length: 359.59292911256387. Nodes created: 269278. Number of steps: 263533. Correct: True\n",
            "Path found! Length: 591.1808075912456. Nodes created: 1178956. Number of steps: 1174896. Correct: True\n",
            "Path found! Length: 553.7396820942909. Nodes created: 652137. Number of steps: 641669. Correct: True\n",
            "Path found! Length: 599.2741699796965. Nodes created: 927945. Number of steps: 914155. Correct: True\n",
            "CPU times: user 12min 12s, sys: 2.74 s, total: 12min 14s\n",
            "Wall time: 12min 15s\n"
          ],
          "name": "stdout"
        }
      ]
    },
    {
      "cell_type": "code",
      "metadata": {
        "id": "4Aa1YxYt7wes",
        "colab": {
          "base_uri": "https://localhost:8080/"
        },
        "outputId": "45f4d399-614e-4485-d86a-0e3f7059144b"
      },
      "source": [
        "#running massive test of weighted A* on 8-connected grids with Diagonal-distance heuristic and hweight = 1.01\n",
        "%time wastDiagStat101 = MassiveTest(WAStar, DiagonalDistance, YourOpen, YourClosed, True, 1.01)"
      ],
      "execution_count": 97,
      "outputs": [
        {
          "output_type": "stream",
          "text": [
            "Path found! Length: 52.183766184073555. Nodes created: 23784. Number of steps: 22874. Correct: True\n",
            "Path found! Length: 204.02691193458136. Nodes created: 118624. Number of steps: 118388. Correct: True\n",
            "Path found! Length: 376.94574285495037. Nodes created: 734147. Number of steps: 733988. Correct: True\n",
            "Path found! Length: 441.4163056034276. Nodes created: 710443. Number of steps: 710248. Correct: True\n",
            "Path found! Length: 373.04119728445545. Nodes created: 760354. Number of steps: 760175. Correct: True\n",
            "Path found! Length: 359.59292911256387. Nodes created: 450133. Number of steps: 449842. Correct: True\n",
            "Path found! Length: 591.1808075912456. Nodes created: 1819790. Number of steps: 1819044. Correct: True\n",
            "Path found! Length: 553.7396820942909. Nodes created: 1235539. Number of steps: 1234424. Correct: True\n",
            "Path found! Length: 599.2741699796965. Nodes created: 1535134. Number of steps: 1534750. Correct: True\n",
            "CPU times: user 11min 30s, sys: 3.6 s, total: 11min 33s\n",
            "Wall time: 11min 34s\n"
          ],
          "name": "stdout"
        }
      ]
    },
    {
      "cell_type": "code",
      "metadata": {
        "id": "jbeT4Vyo7wes",
        "colab": {
          "base_uri": "https://localhost:8080/"
        },
        "outputId": "23c4b3a8-88ea-4b51-ef22-7b171da25a7c"
      },
      "source": [
        "#running massive test of weighted A* on 8-connected grids with Diagonal-distance heuristic and hweight = 1.1\n",
        "%time wastDiagStat11 = MassiveTest(WAStar, DiagonalDistance, YourOpen, YourClosed, True, 1.1)"
      ],
      "execution_count": 98,
      "outputs": [
        {
          "output_type": "stream",
          "text": [
            "Path found! Length: 52.183766184073555. Nodes created: 23393. Number of steps: 22449. Correct: True\n",
            "Path found! Length: 204.02691193458136. Nodes created: 118552. Number of steps: 118308. Correct: True\n",
            "Path found! Length: 376.94574285495037. Nodes created: 734118. Number of steps: 733959. Correct: True\n",
            "Path found! Length: 441.4163056034276. Nodes created: 710378. Number of steps: 710180. Correct: True\n",
            "Path found! Length: 373.04119728445545. Nodes created: 760322. Number of steps: 760126. Correct: True\n",
            "Path found! Length: 359.59292911256387. Nodes created: 449956. Number of steps: 449636. Correct: True\n",
            "Path found! Length: 591.1808075912456. Nodes created: 1818693. Number of steps: 1817943. Correct: True\n",
            "Path found! Length: 553.7396820942909. Nodes created: 1234843. Number of steps: 1233592. Correct: True\n",
            "Path found! Length: 599.2741699796965. Nodes created: 1534992. Number of steps: 1534589. Correct: True\n",
            "CPU times: user 11min 23s, sys: 3.24 s, total: 11min 26s\n",
            "Wall time: 11min 26s\n"
          ],
          "name": "stdout"
        }
      ]
    },
    {
      "cell_type": "code",
      "metadata": {
        "id": "FSe4954k7wet",
        "colab": {
          "base_uri": "https://localhost:8080/"
        },
        "outputId": "94c380a5-84b1-41e9-9591-289429f32bbc"
      },
      "source": [
        "#running massive test of weighted A* on 8-connected grids with Diagonal-distance heuristic and hweight = 2\n",
        "%time wastDiagStat2 = MassiveTest(WAStar, DiagonalDistance, YourOpen, YourClosed, True, 2)"
      ],
      "execution_count": 99,
      "outputs": [
        {
          "output_type": "stream",
          "text": [
            "Path found! Length: 52.183766184073555. Nodes created: 19869. Number of steps: 18985. Correct: True\n",
            "Path found! Length: 204.02691193458136. Nodes created: 117497. Number of steps: 117062. Correct: True\n",
            "Path found! Length: 376.94574285495037. Nodes created: 732659. Number of steps: 732106. Correct: True\n",
            "Path found! Length: 441.4163056034276. Nodes created: 709787. Number of steps: 709483. Correct: True\n",
            "Path found! Length: 373.04119728445545. Nodes created: 759687. Number of steps: 759296. Correct: True\n",
            "Path found! Length: 359.59292911256387. Nodes created: 445868. Number of steps: 445244. Correct: True\n",
            "Path found! Length: 591.1808075912456. Nodes created: 1805256. Number of steps: 1804004. Correct: True\n",
            "Path found! Length: 553.7396820942909. Nodes created: 1224991. Number of steps: 1223555. Correct: True\n",
            "Path found! Length: 599.2741699796965. Nodes created: 1533501. Number of steps: 1532952. Correct: True\n",
            "CPU times: user 11min 34s, sys: 2.97 s, total: 11min 37s\n",
            "Wall time: 11min 38s\n"
          ],
          "name": "stdout"
        }
      ]
    },
    {
      "cell_type": "markdown",
      "metadata": {
        "id": "NQ7JtP_G7wet"
      },
      "source": [
        "# Analysis of results\n",
        "Lets compare the results of WA* with Diagonal-distance heuristic and different heuristic weights on 8-connected grids\n",
        "\n",
        "Additionally you can compare the results on 4-connected grids or with other heuristic functions"
      ]
    },
    {
      "cell_type": "markdown",
      "metadata": {
        "id": "HOY1VOps7wet"
      },
      "source": [
        "![2](./Image/3.png)"
      ]
    },
    {
      "cell_type": "code",
      "metadata": {
        "id": "ay7EhHaG7weu",
        "colab": {
          "base_uri": "https://localhost:8080/",
          "height": 663
        },
        "outputId": "0793e95c-8e80-4c96-8e25-7466605bd033"
      },
      "source": [
        "fig, axs = plt.subplots(3, 3, figsize=(15,10))\n",
        "fig.suptitle('Average path length')\n",
        "for i in range(9):\n",
        "    ax = axs[i // 3, i % 3]\n",
        "    ax.set_title(str(i) + \" task\")\n",
        "    alg = ['A*', 'WA* 1.01', 'WA* 1.1', 'WA* 2.0' ]\n",
        "    lens = [astDiagStat['len'][i], wastDiagStat101['len'][i], wastDiagStat11['len'][i], wastDiagStat2['len'][i]]\n",
        "    ax.bar(alg, lens)\n",
        "plt.show()"
      ],
      "execution_count": 100,
      "outputs": [
        {
          "output_type": "display_data",
          "data": {
            "image/png": "[encoded data removed]",
            "text/plain": [
              "<Figure size 1080x720 with 9 Axes>"
            ]
          },
          "metadata": {
            "tags": [],
            "needs_background": "light"
          }
        }
      ]
    },
    {
      "cell_type": "code",
      "metadata": {
        "id": "fjiaH8yd7weu",
        "colab": {
          "base_uri": "https://localhost:8080/",
          "height": 663
        },
        "outputId": "eaeaf05b-0857-4943-c0fe-d29c9c83f6df"
      },
      "source": [
        "fig, axs = plt.subplots(3, 3, figsize=(15,10))\n",
        "fig.suptitle('Average number of created nodes')\n",
        "for i in range(9):\n",
        "    ax = axs[i // 3, i % 3]\n",
        "    ax.set_title(str(i) + \" task\")\n",
        "    alg = ['A*', 'WA* 1.01', 'WA* 1.1', 'WA* 2.0' ]\n",
        "    lens = [astDiagStat['nc'][i], wastDiagStat101['nc'][i], wastDiagStat11['nc'][i], wastDiagStat2['nc'][i]]\n",
        "    ax.bar(alg, lens)\n",
        "plt.show()"
      ],
      "execution_count": 101,
      "outputs": [
        {
          "output_type": "display_data",
          "data": {
            "image/png": "[encoded data removed]",
            "text/plain": [
              "<Figure size 1080x720 with 9 Axes>"
            ]
          },
          "metadata": {
            "tags": [],
            "needs_background": "light"
          }
        }
      ]
    },
    {
      "cell_type": "code",
      "metadata": {
        "id": "VnS1QYKQ7weu",
        "colab": {
          "base_uri": "https://localhost:8080/",
          "height": 663
        },
        "outputId": "1c2ecab1-0797-44b5-cd88-8706fcb7d529"
      },
      "source": [
        "fig, axs = plt.subplots(3, 3, figsize=(15,10))\n",
        "fig.suptitle('Average number of steps')\n",
        "for i in range(9):\n",
        "    ax = axs[i // 3, i % 3]\n",
        "    ax.set_title(str(i) + \" task\")\n",
        "    alg = ['A*', 'WA* 1.01', 'WA* 1.1', 'WA* 2.0' ]\n",
        "    lens = [astDiagStat['st'][i], wastDiagStat101['st'][i], wastDiagStat11['st'][i], wastDiagStat2['st'][i]]\n",
        "    ax.bar(alg, lens)\n",
        "plt.show()"
      ],
      "execution_count": 102,
      "outputs": [
        {
          "output_type": "display_data",
          "data": {
            "image/png": "[encoded data removed]",
            "text/plain": [
              "<Figure size 1080x720 with 9 Axes>"
            ]
          },
          "metadata": {
            "tags": [],
            "needs_background": "light"
          }
        }
      ]
    },
    {
      "cell_type": "code",
      "metadata": {
        "id": "6Kj_znfx7wev"
      },
      "source": [
        ""
      ],
      "execution_count": 102,
      "outputs": []
    }
  ]
}